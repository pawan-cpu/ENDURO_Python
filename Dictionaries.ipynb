{
  "cells": [
    {
      "cell_type": "markdown",
      "metadata": {
        "id": "view-in-github",
        "colab_type": "text"
      },
      "source": [
        "<a href=\"https://colab.research.google.com/github/pawan-cpu/ENDURO_Python/blob/main/Dictionaries.ipynb\" target=\"_parent\"><img src=\"https://colab.research.google.com/assets/colab-badge.svg\" alt=\"Open In Colab\"/></a>"
      ]
    },
    {
      "cell_type": "markdown",
      "source": [
        "Dictionaries\n",
        "1. unordered collection of key and value pairs (no indexing)\n",
        "2. no two keys can be same"
      ],
      "metadata": {
        "id": "_zBO0DqKmzn6"
      }
    },
    {
      "cell_type": "markdown",
      "source": [
        "Creating dictionaries"
      ],
      "metadata": {
        "id": "v_nc3rowr_-d"
      }
    },
    {
      "cell_type": "code",
      "execution_count": null,
      "metadata": {
        "id": "Lv55ooIofoKP",
        "outputId": "b7098e13-97a0-48b8-ce7b-2a875bb38475"
      },
      "outputs": [
        {
          "name": "stdout",
          "output_type": "stream",
          "text": [
            "<class 'dict'>\n"
          ]
        }
      ],
      "source": [
        "empty_dictionary = {}\n",
        "print(type(empty_dictionary))"
      ]
    },
    {
      "cell_type": "code",
      "execution_count": null,
      "metadata": {
        "colab": {
          "base_uri": "https://localhost:8080/"
        },
        "id": "HPCG_B6VfoKT",
        "outputId": "92059452-c12b-4f4c-f00c-811edfc21651"
      },
      "outputs": [
        {
          "name": "stdout",
          "output_type": "stream",
          "text": [
            "{'Name': 'Bob Marley', 'Age': 35, 'Height': '5.6 ft', 'Hobby': 'Music'}\n"
          ]
        }
      ],
      "source": [
        "bio_data = {'Name': 'Bob Marley', 'Age':35, 'Height':\"5.6 ft\", 'Hobby': 'Music'}\n",
        "print(bio_data)\n"
      ]
    },
    {
      "cell_type": "code",
      "execution_count": null,
      "metadata": {
        "id": "y6dW0qZbfoKU"
      },
      "outputs": [],
      "source": [
        "credentials = { 'UserA' : 'wkliopnc' , 'UserB': 98760 , 'UserC' :98760 } "
      ]
    },
    {
      "cell_type": "markdown",
      "source": [
        "accessing values"
      ],
      "metadata": {
        "id": "OdIbW4Z6sEZe"
      }
    },
    {
      "cell_type": "code",
      "execution_count": null,
      "metadata": {
        "id": "aqH0jyulfoKU",
        "outputId": "a6ea5cc4-e9de-43a9-8d75-cdd9c5132c7c"
      },
      "outputs": [
        {
          "name": "stdout",
          "output_type": "stream",
          "text": [
            "Music\n"
          ]
        }
      ],
      "source": [
        "hobby = bio_data['Hobby']\n",
        "print(hobby)"
      ]
    },
    {
      "cell_type": "code",
      "execution_count": null,
      "metadata": {
        "colab": {
          "background_save": true
        },
        "id": "dhxi7wUSfoKV"
      },
      "outputs": [],
      "source": [
        "age = bio_data['Age']\n",
        "print(age)\n",
        "\n",
        "p = bio_data['School']"
      ]
    },
    {
      "cell_type": "code",
      "execution_count": null,
      "metadata": {
        "colab": {
          "background_save": true
        },
        "id": "-5QMYHDwfoKW",
        "outputId": "b2ad6fd5-424b-4354-c030-9effa09941dd"
      },
      "outputs": [
        {
          "name": "stdout",
          "output_type": "stream",
          "text": [
            "None\n"
          ]
        }
      ],
      "source": [
        "age = bio_data.get('Age')\n",
        "print(age)"
      ]
    },
    {
      "cell_type": "code",
      "execution_count": null,
      "metadata": {
        "colab": {
          "base_uri": "https://localhost:8080/"
        },
        "id": "aT0ALZkLfoKW",
        "outputId": "8ce222cd-f232-4671-cab0-2e5a58cb281d"
      },
      "outputs": [
        {
          "output_type": "stream",
          "name": "stdout",
          "text": [
            "35\n"
          ]
        }
      ],
      "source": [
        "profession  =  bio_data.get('Age','NA')\n",
        "print(profession)"
      ]
    },
    {
      "cell_type": "code",
      "execution_count": null,
      "metadata": {
        "id": "2YOLzdkAfoKW",
        "colab": {
          "base_uri": "https://localhost:8080/"
        },
        "outputId": "ac4592e7-1633-4e11-9bc8-b34d3ed3b485"
      },
      "outputs": [
        {
          "output_type": "stream",
          "name": "stdout",
          "text": [
            "{'Name': 'Bob Marley', 'Age': 36, 'Height': '5.6 ft', 'Hobby': 'Music'}\n"
          ]
        }
      ],
      "source": [
        "bio_data['Age'] = 36\n",
        "print(bio_data)"
      ]
    },
    {
      "cell_type": "markdown",
      "source": [
        "Inserting key value pairs"
      ],
      "metadata": {
        "id": "-FHpZ3WpsLHW"
      }
    },
    {
      "cell_type": "code",
      "execution_count": null,
      "metadata": {
        "id": "y6ypITrsfoKX"
      },
      "outputs": [],
      "source": [
        "#add a key, val\n",
        "bio_data['Profession'] = 'Singer'\n",
        "print(bio_data)"
      ]
    },
    {
      "cell_type": "code",
      "execution_count": null,
      "metadata": {
        "id": "1QO_kQuwfoKX"
      },
      "outputs": [],
      "source": [
        "print('Profession' in bio_data)"
      ]
    },
    {
      "cell_type": "markdown",
      "source": [
        "getting keys, value and key-value pairs"
      ],
      "metadata": {
        "id": "_rt7SugmsVlu"
      }
    },
    {
      "cell_type": "code",
      "execution_count": null,
      "metadata": {
        "id": "cbBimxIOfoKX"
      },
      "outputs": [],
      "source": [
        "#get list of keys\n",
        "print(list(bio_data.keys()))\n",
        "\n",
        "#get list of values\n",
        "print(list(bio_data.values()))"
      ]
    },
    {
      "cell_type": "markdown",
      "source": [
        "another way to create dictionary"
      ],
      "metadata": {
        "id": "e4LhZbG8scJ3"
      }
    },
    {
      "cell_type": "code",
      "execution_count": null,
      "metadata": {
        "collapsed": true,
        "id": "ioppAYfgfoKY"
      },
      "outputs": [],
      "source": [
        "new_dictionary = dict(Country='Jamaica', Songs=['One Love','Misty Morning'])"
      ]
    },
    {
      "cell_type": "markdown",
      "source": [
        "update method"
      ],
      "metadata": {
        "id": "uAOpHnzushvD"
      }
    },
    {
      "cell_type": "code",
      "execution_count": null,
      "metadata": {
        "id": "BmP19lXNfoKY"
      },
      "outputs": [],
      "source": [
        "bio_data.update(new_dictionary)\n",
        "print(bio_data)"
      ]
    },
    {
      "cell_type": "markdown",
      "source": [
        "deleting from dictionary"
      ],
      "metadata": {
        "id": "aXULXy2oskPv"
      }
    },
    {
      "cell_type": "code",
      "execution_count": null,
      "metadata": {
        "id": "Xpwq91AdfoKY"
      },
      "outputs": [],
      "source": [
        "del bio_data['Songs']\n",
        "print(bio_data)"
      ]
    },
    {
      "cell_type": "code",
      "execution_count": null,
      "metadata": {
        "colab": {
          "base_uri": "https://localhost:8080/"
        },
        "id": "q5Hn2tQdfoKY",
        "outputId": "94549a51-b620-4a44-cb07-f30a4e9e7b78"
      },
      "outputs": [
        {
          "name": "stdout",
          "output_type": "stream",
          "text": [
            "{1: ['Shivam Bansal', 24], 2: ['Udit Bansal', 25], 3: ['Sonam Gupta', 26], 4: ['Saif Ansari', 24], 5: ['Huzefa Calcuttawala', 27]}\n"
          ]
        }
      ],
      "source": [
        "students_data = { 1:['Shivam Bansal', 24] , 2:['Udit Bansal',25], 3:['Sonam Gupta', 26], 4:['Saif Ansari',24], 5:['Huzefa Calcuttawala',27]}\n",
        "\n",
        "print(students_data)\n"
      ]
    },
    {
      "cell_type": "code",
      "execution_count": null,
      "metadata": {
        "colab": {
          "base_uri": "https://localhost:8080/"
        },
        "id": "4kaybxS5foKZ",
        "outputId": "aee3a1e9-5d74-4411-94a1-fea0b14c757f"
      },
      "outputs": [
        {
          "name": "stdout",
          "output_type": "stream",
          "text": [
            "5\n"
          ]
        }
      ],
      "source": [
        "print(len(students_data))\n"
      ]
    },
    {
      "cell_type": "code",
      "execution_count": null,
      "metadata": {
        "id": "HQbYbhX5foKZ"
      },
      "outputs": [],
      "source": [
        "#see all the details of students. \n",
        "print(list(students_data.values()))\n"
      ]
    },
    {
      "cell_type": "code",
      "execution_count": null,
      "metadata": {
        "id": "_NOne2NFfoKZ"
      },
      "outputs": [],
      "source": [
        "students_data[6] = ['Manasi Sharma', 22]\n",
        "print(students_data)\n"
      ]
    },
    {
      "cell_type": "code",
      "execution_count": null,
      "metadata": {
        "id": "sZ5egW9OfoKZ"
      },
      "outputs": [],
      "source": [
        "del students_data[2]\n",
        "print(students_data)"
      ]
    },
    {
      "cell_type": "code",
      "execution_count": null,
      "metadata": {
        "id": "tDu59KAmfoKa"
      },
      "outputs": [],
      "source": [
        "print(list(students_data.keys()))\n"
      ]
    }
  ],
  "metadata": {
    "anaconda-cloud": {},
    "colab": {
      "provenance": [],
      "include_colab_link": true
    },
    "kernelspec": {
      "display_name": "Python 3",
      "language": "python",
      "name": "python3"
    },
    "language_info": {
      "codemirror_mode": {
        "name": "ipython",
        "version": 3
      },
      "file_extension": ".py",
      "mimetype": "text/x-python",
      "name": "python",
      "nbconvert_exporter": "python",
      "pygments_lexer": "ipython3",
      "version": "3.8.3"
    }
  },
  "nbformat": 4,
  "nbformat_minor": 0
}