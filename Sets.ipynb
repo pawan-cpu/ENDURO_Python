{
  "cells": [
    {
      "cell_type": "markdown",
      "metadata": {
        "id": "view-in-github",
        "colab_type": "text"
      },
      "source": [
        "<a href=\"https://colab.research.google.com/github/pawan-cpu/ENDURO_Python/blob/main/Sets.ipynb\" target=\"_parent\"><img src=\"https://colab.research.google.com/assets/colab-badge.svg\" alt=\"Open In Colab\"/></a>"
      ]
    },
    {
      "cell_type": "markdown",
      "source": [
        "SETS\n",
        "1. unordered\n",
        "2. unique elements (no indexing)\n",
        "3. can not store list, tuple and dictionaries as elements\n",
        "4. stores in random order but in some compilers it might be by default in sorted way but not in every compiler"
      ],
      "metadata": {
        "id": "n6DD0ePoS3J3"
      }
    },
    {
      "cell_type": "code",
      "execution_count": null,
      "metadata": {
        "id": "O2z4A-cPfsQ_"
      },
      "outputs": [],
      "source": [
        "students_list = ['A','A','B','C','C','E','N']\n"
      ]
    },
    {
      "cell_type": "markdown",
      "source": [
        "converting list containing duplicate items in set with unique elements"
      ],
      "metadata": {
        "id": "g3g_PL-DS1Rh"
      }
    },
    {
      "cell_type": "code",
      "execution_count": null,
      "metadata": {
        "colab": {
          "base_uri": "https://localhost:8080/"
        },
        "id": "SK45jJA-fsRB",
        "outputId": "e5b7fa5f-65cc-491d-a3c4-02119c5ad468"
      },
      "outputs": [
        {
          "output_type": "stream",
          "name": "stdout",
          "text": [
            "{'N', 'C', 'B', 'E', 'A'}\n"
          ]
        }
      ],
      "source": [
        "students_set = set(students_list)\n",
        "print(students_set)\n"
      ]
    },
    {
      "cell_type": "code",
      "execution_count": null,
      "metadata": {
        "colab": {
          "base_uri": "https://localhost:8080/"
        },
        "id": "F29VuuElfsRD",
        "outputId": "1178e65e-42fc-4cdd-80c4-2e1e5648fe38"
      },
      "outputs": [
        {
          "output_type": "stream",
          "name": "stdout",
          "text": [
            "<class 'set'>\n"
          ]
        }
      ],
      "source": [
        "print(type(students_set))\n"
      ]
    },
    {
      "cell_type": "code",
      "execution_count": null,
      "metadata": {
        "id": "0yYqkLZ6fsRD"
      },
      "outputs": [],
      "source": [
        "students_list_2 = ['A','N','F','N','G','A']\n"
      ]
    },
    {
      "cell_type": "code",
      "execution_count": null,
      "metadata": {
        "id": "MsQWGjSpfsRE"
      },
      "outputs": [],
      "source": [
        "students_set_2 = set(students_list_2)\n"
      ]
    },
    {
      "cell_type": "markdown",
      "source": [
        "Mathematical methods"
      ],
      "metadata": {
        "id": "eROe7MmaTSNT"
      }
    },
    {
      "cell_type": "code",
      "execution_count": null,
      "metadata": {
        "colab": {
          "base_uri": "https://localhost:8080/"
        },
        "id": "9RI0sG6dfsRE",
        "outputId": "9dba1e59-f5e7-407b-cb4a-5b2cf0f9e6cd"
      },
      "outputs": [
        {
          "output_type": "stream",
          "name": "stdout",
          "text": [
            "{'N', 'A'}\n",
            "{'N', 'A'}\n"
          ]
        }
      ],
      "source": [
        "print(students_set.intersection(students_set_2))\n",
        "print(students_set & students_set_2)\n"
      ]
    },
    {
      "cell_type": "code",
      "execution_count": null,
      "metadata": {
        "colab": {
          "base_uri": "https://localhost:8080/"
        },
        "id": "ei2qISh-fsRE",
        "outputId": "6100aee5-4b94-4449-9078-542ad305a949"
      },
      "outputs": [
        {
          "output_type": "stream",
          "name": "stdout",
          "text": [
            "{'N', 'C', 'G', 'E', 'B', 'F', 'A'}\n",
            "{'N', 'C', 'G', 'E', 'B', 'F', 'A'}\n"
          ]
        }
      ],
      "source": [
        "print(students_set.union(students_set_2))\n",
        "print(students_set | students_set_2)"
      ]
    },
    {
      "cell_type": "code",
      "execution_count": null,
      "metadata": {
        "colab": {
          "base_uri": "https://localhost:8080/"
        },
        "id": "UBhikgLPfsRF",
        "outputId": "af8900ed-8f53-4fd4-fe91-57e18de7e746"
      },
      "outputs": [
        {
          "output_type": "stream",
          "name": "stdout",
          "text": [
            "{'F', 'G'}\n"
          ]
        }
      ],
      "source": [
        "print(students_set_2.difference(students_set))"
      ]
    },
    {
      "cell_type": "markdown",
      "source": [
        "adding and removing elements from set\n"
      ],
      "metadata": {
        "id": "k3Xb-ZTZSz0P"
      }
    },
    {
      "cell_type": "code",
      "execution_count": null,
      "metadata": {
        "id": "zKyh88NAfsRF"
      },
      "outputs": [],
      "source": [
        "s={1,2,3,4,1,1}"
      ]
    },
    {
      "cell_type": "code",
      "source": [
        "s.add(5)\n",
        "print(s)"
      ],
      "metadata": {
        "id": "2v7tRfMqT-zz"
      },
      "execution_count": null,
      "outputs": []
    },
    {
      "cell_type": "code",
      "source": [
        "s.remove(5)\n",
        "print(s)"
      ],
      "metadata": {
        "colab": {
          "base_uri": "https://localhost:8080/"
        },
        "id": "3dCJsWBCUCje",
        "outputId": "22e5966c-941d-40f5-d595-4da277896590"
      },
      "execution_count": null,
      "outputs": [
        {
          "output_type": "stream",
          "name": "stdout",
          "text": [
            "{1, 2, 3, 4}\n"
          ]
        }
      ]
    },
    {
      "cell_type": "code",
      "source": [
        "s.discard(6)\n",
        "print(s)"
      ],
      "metadata": {
        "id": "2ywV8K0gUHQL"
      },
      "execution_count": null,
      "outputs": []
    },
    {
      "cell_type": "markdown",
      "source": [
        "copy and clear the set\n"
      ],
      "metadata": {
        "id": "VEG3mpBtUNzi"
      }
    },
    {
      "cell_type": "code",
      "source": [
        "s1= s.copy()\n",
        "print(s1)"
      ],
      "metadata": {
        "id": "vhc2I3pJUZhQ"
      },
      "execution_count": null,
      "outputs": []
    },
    {
      "cell_type": "code",
      "source": [
        "s.clear()\n",
        "print(s)"
      ],
      "metadata": {
        "id": "4zrodfgaURtG"
      },
      "execution_count": null,
      "outputs": []
    }
  ],
  "metadata": {
    "anaconda-cloud": {},
    "kernelspec": {
      "display_name": "Python 3",
      "language": "python",
      "name": "python3"
    },
    "language_info": {
      "codemirror_mode": {
        "name": "ipython",
        "version": 3
      },
      "file_extension": ".py",
      "mimetype": "text/x-python",
      "name": "python",
      "nbconvert_exporter": "python",
      "pygments_lexer": "ipython3",
      "version": "3.8.3"
    },
    "colab": {
      "provenance": [],
      "include_colab_link": true
    }
  },
  "nbformat": 4,
  "nbformat_minor": 0
}