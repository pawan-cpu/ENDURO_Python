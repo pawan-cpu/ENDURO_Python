{
  "nbformat": 4,
  "nbformat_minor": 0,
  "metadata": {
    "colab": {
      "provenance": [],
      "include_colab_link": true
    },
    "kernelspec": {
      "name": "python3",
      "display_name": "Python 3"
    },
    "language_info": {
      "name": "python"
    }
  },
  "cells": [
    {
      "cell_type": "markdown",
      "metadata": {
        "id": "view-in-github",
        "colab_type": "text"
      },
      "source": [
        "<a href=\"https://colab.research.google.com/github/pawan-cpu/ENDURO_Python/blob/main/Enduro_Day8.ipynb\" target=\"_parent\"><img src=\"https://colab.research.google.com/assets/colab-badge.svg\" alt=\"Open In Colab\"/></a>"
      ]
    },
    {
      "cell_type": "markdown",
      "source": [
        "**Method Overriding**"
      ],
      "metadata": {
        "id": "ukZlPjZ2QsUX"
      }
    },
    {
      "cell_type": "code",
      "source": [
        "class Parent():\n",
        "      \n",
        "    # Constructor\n",
        "    def __init__(self):\n",
        "        self.value = \"Inside Parent\"\n",
        "          \n",
        "    # Parent's show method\n",
        "    def show(self):\n",
        "        print(self.value)\n",
        "\n",
        "    def eat(self):\n",
        "      print(\"Eating in parent class\")\n",
        "          \n",
        "# Defining child class\n",
        "class Child(Parent):\n",
        "      \n",
        "    # Constructor\n",
        "    def __init__(self):\n",
        "        self.value = \"Inside Child\"\n",
        "          \n",
        "    # Child's show method\n",
        "    def show(self):\n",
        "        print(self.value)\n",
        "      \n",
        "    # def eat(self):\n",
        "    #   print(\"Eating inside child class\")\n",
        "          \n",
        "          \n",
        "obj1 = Parent()\n",
        "obj2 = Child()\n",
        "  \n",
        "obj1.show()\n",
        "obj2.show()\n",
        "\n",
        "obj1.eat()\n",
        "obj2.eat()"
      ],
      "metadata": {
        "colab": {
          "base_uri": "https://localhost:8080/"
        },
        "id": "w-xLjjezQ4B8",
        "outputId": "045ba4db-59ad-4095-dccf-c13b04bb8f55"
      },
      "execution_count": null,
      "outputs": [
        {
          "output_type": "stream",
          "name": "stdout",
          "text": [
            "Inside Parent\n",
            "Inside Child\n",
            "Eating in parent class\n",
            "Eating in parent class\n"
          ]
        }
      ]
    },
    {
      "cell_type": "markdown",
      "source": [
        "**Multiple inheritance**"
      ],
      "metadata": {
        "id": "IlQgQhm_TgLX"
      }
    },
    {
      "cell_type": "code",
      "source": [
        "# Defining parent class 1\n",
        "class Parent1():\n",
        "\t\t\n",
        "\t# Parent's show method\n",
        "\tdef display(self):\n",
        "\t\tprint(\"Inside Parent1\")\n",
        "\t\t\n",
        "# Defining Parent class 2\n",
        "class Parent2():\n",
        "\t\t\n",
        "\t# Parent's show method\n",
        "\tdef display(self):\n",
        "\t\tprint(\"Inside Parent2\")\n",
        "\t\t\n",
        "\t\t\n",
        "# Defining child class\n",
        "class Child(Parent1, Parent2):\n",
        "\t\t\n",
        "\t# Child's show method\n",
        "\tdef show(self):\n",
        "\t\tprint(\"Inside Child\")\n",
        "\t\n",
        "\t\t\n",
        "# Driver's code\n",
        "obj = Child()\n",
        "\n",
        "obj.show()\n",
        "obj.display()\n"
      ],
      "metadata": {
        "colab": {
          "base_uri": "https://localhost:8080/"
        },
        "id": "iMvP-LGnTkH1",
        "outputId": "fe1f42ad-7e0d-46e4-c109-e1cdf30c3726"
      },
      "execution_count": null,
      "outputs": [
        {
          "output_type": "stream",
          "name": "stdout",
          "text": [
            "Inside Child\n",
            "Inside Parent1\n"
          ]
        }
      ]
    },
    {
      "cell_type": "markdown",
      "source": [
        "**Multilevel Inheritance**"
      ],
      "metadata": {
        "id": "EKRTCHWcTv5-"
      }
    },
    {
      "cell_type": "code",
      "source": [
        "class Parent():\n",
        "\t\t\n",
        "\t# Parent's show method\n",
        "\tdef display(self):\n",
        "\t\tprint(\"Inside Parent\")\n",
        "\t\n",
        "# Inherited or Sub class (Note Parent in bracket)\n",
        "class Child(Parent):\n",
        "\n",
        "\t# Child's show method\n",
        "\tdef show(self):\n",
        "\t\tprint(\"Inside Child\")\n",
        "\t\n",
        "# Inherited or Sub class (Note Child in bracket)\n",
        "class GrandChild(Child):\n",
        "\t\t\n",
        "\t# Child's show method\n",
        "\tdef show(self):\n",
        "\t\tprint(\"Inside GrandChild\")\t\t\n",
        "\t\n",
        "# Driver code\n",
        "g = GrandChild()\n",
        "g.show()\n",
        "g.display()\n"
      ],
      "metadata": {
        "colab": {
          "base_uri": "https://localhost:8080/"
        },
        "id": "NqIE77D9Tznn",
        "outputId": "8ef6d20f-1018-4b24-e3ca-d39ca5bda230"
      },
      "execution_count": null,
      "outputs": [
        {
          "output_type": "stream",
          "name": "stdout",
          "text": [
            "Inside GrandChild\n",
            "Inside Parent\n"
          ]
        }
      ]
    },
    {
      "cell_type": "markdown",
      "source": [
        "**Raising Errors**"
      ],
      "metadata": {
        "id": "_7SGsXOU67iQ"
      }
    },
    {
      "cell_type": "code",
      "source": [
        "def add(a,b):\n",
        "  if(type(a) is int) and (type(b) is int):\n",
        "    return a+b\n",
        "  raise TypeError(\"You have passed wrong data type\")\n",
        "\n",
        "print(add(2,'four'))"
      ],
      "metadata": {
        "colab": {
          "base_uri": "https://localhost:8080/",
          "height": 321
        },
        "id": "ivKDm9dYz6ui",
        "outputId": "12b1dd49-8a57-4b13-c70e-b2f5b11a660a"
      },
      "execution_count": null,
      "outputs": [
        {
          "output_type": "error",
          "ename": "TypeError",
          "evalue": "ignored",
          "traceback": [
            "\u001b[0;31m---------------------------------------------------------------------------\u001b[0m",
            "\u001b[0;31mTypeError\u001b[0m                                 Traceback (most recent call last)",
            "\u001b[0;32m<ipython-input-19-d049e2b626d8>\u001b[0m in \u001b[0;36m<module>\u001b[0;34m\u001b[0m\n\u001b[1;32m      4\u001b[0m   \u001b[0;32mraise\u001b[0m \u001b[0mTypeError\u001b[0m\u001b[0;34m(\u001b[0m\u001b[0;34m\"You have passed wrong data type\"\u001b[0m\u001b[0;34m)\u001b[0m\u001b[0;34m\u001b[0m\u001b[0;34m\u001b[0m\u001b[0m\n\u001b[1;32m      5\u001b[0m \u001b[0;34m\u001b[0m\u001b[0m\n\u001b[0;32m----> 6\u001b[0;31m \u001b[0mprint\u001b[0m\u001b[0;34m(\u001b[0m\u001b[0madd\u001b[0m\u001b[0;34m(\u001b[0m\u001b[0;36m2\u001b[0m\u001b[0;34m,\u001b[0m\u001b[0;34m'four'\u001b[0m\u001b[0;34m)\u001b[0m\u001b[0;34m)\u001b[0m\u001b[0;34m\u001b[0m\u001b[0;34m\u001b[0m\u001b[0m\n\u001b[0m",
            "\u001b[0;32m<ipython-input-19-d049e2b626d8>\u001b[0m in \u001b[0;36madd\u001b[0;34m(a, b)\u001b[0m\n\u001b[1;32m      2\u001b[0m   \u001b[0;32mif\u001b[0m\u001b[0;34m(\u001b[0m\u001b[0mtype\u001b[0m\u001b[0;34m(\u001b[0m\u001b[0ma\u001b[0m\u001b[0;34m)\u001b[0m \u001b[0;32mis\u001b[0m \u001b[0mint\u001b[0m\u001b[0;34m)\u001b[0m \u001b[0;32mand\u001b[0m \u001b[0;34m(\u001b[0m\u001b[0mtype\u001b[0m\u001b[0;34m(\u001b[0m\u001b[0mb\u001b[0m\u001b[0;34m)\u001b[0m \u001b[0;32mis\u001b[0m \u001b[0mint\u001b[0m\u001b[0;34m)\u001b[0m\u001b[0;34m:\u001b[0m\u001b[0;34m\u001b[0m\u001b[0;34m\u001b[0m\u001b[0m\n\u001b[1;32m      3\u001b[0m     \u001b[0;32mreturn\u001b[0m \u001b[0ma\u001b[0m\u001b[0;34m+\u001b[0m\u001b[0mb\u001b[0m\u001b[0;34m\u001b[0m\u001b[0;34m\u001b[0m\u001b[0m\n\u001b[0;32m----> 4\u001b[0;31m   \u001b[0;32mraise\u001b[0m \u001b[0mTypeError\u001b[0m\u001b[0;34m(\u001b[0m\u001b[0;34m\"You have passed wrong data type\"\u001b[0m\u001b[0;34m)\u001b[0m\u001b[0;34m\u001b[0m\u001b[0;34m\u001b[0m\u001b[0m\n\u001b[0m\u001b[1;32m      5\u001b[0m \u001b[0;34m\u001b[0m\u001b[0m\n\u001b[1;32m      6\u001b[0m \u001b[0mprint\u001b[0m\u001b[0;34m(\u001b[0m\u001b[0madd\u001b[0m\u001b[0;34m(\u001b[0m\u001b[0;36m2\u001b[0m\u001b[0;34m,\u001b[0m\u001b[0;34m'four'\u001b[0m\u001b[0;34m)\u001b[0m\u001b[0;34m)\u001b[0m\u001b[0;34m\u001b[0m\u001b[0;34m\u001b[0m\u001b[0m\n",
            "\u001b[0;31mTypeError\u001b[0m: You have passed wrong data type"
          ]
        }
      ]
    },
    {
      "cell_type": "markdown",
      "source": [
        "**try except else and finally**"
      ],
      "metadata": {
        "id": "L3QSccf0QROX"
      }
    },
    {
      "cell_type": "code",
      "execution_count": null,
      "metadata": {
        "colab": {
          "base_uri": "https://localhost:8080/",
          "height": 200
        },
        "id": "wVfh5CotOEVU",
        "outputId": "b2e46904-bb2e-44f5-b9f3-3151b79910dc"
      },
      "outputs": [
        {
          "output_type": "error",
          "ename": "ZeroDivisionError",
          "evalue": "ignored",
          "traceback": [
            "\u001b[0;31m---------------------------------------------------------------------------\u001b[0m",
            "\u001b[0;31mZeroDivisionError\u001b[0m                         Traceback (most recent call last)",
            "\u001b[0;32m<ipython-input-20-9eb79d2caede>\u001b[0m in \u001b[0;36m<module>\u001b[0;34m\u001b[0m\n\u001b[1;32m      1\u001b[0m \u001b[0ma\u001b[0m \u001b[0;34m=\u001b[0m \u001b[0;36m5\u001b[0m\u001b[0;34m\u001b[0m\u001b[0;34m\u001b[0m\u001b[0m\n\u001b[1;32m      2\u001b[0m \u001b[0mb\u001b[0m \u001b[0;34m=\u001b[0m \u001b[0;36m0\u001b[0m\u001b[0;34m\u001b[0m\u001b[0;34m\u001b[0m\u001b[0m\n\u001b[0;32m----> 3\u001b[0;31m \u001b[0mprint\u001b[0m\u001b[0;34m(\u001b[0m\u001b[0ma\u001b[0m\u001b[0;34m/\u001b[0m\u001b[0mb\u001b[0m\u001b[0;34m)\u001b[0m\u001b[0;34m\u001b[0m\u001b[0;34m\u001b[0m\u001b[0m\n\u001b[0m",
            "\u001b[0;31mZeroDivisionError\u001b[0m: division by zero"
          ]
        }
      ],
      "source": [
        "a = 5\n",
        "b = 0\n",
        "print(a/b)\n"
      ]
    },
    {
      "cell_type": "markdown",
      "source": [
        "Exception handling with try, except, else, and finally\n",
        "- Try: This block will test the excepted error to occur\n",
        "- Except:  Here you can handle the error\n",
        "- Else: If there is no exception then this block will be executed\n",
        "- Finally: Finally block always gets executed either exception is generated or not\n",
        "\n",
        "\n",
        "\n",
        "\n",
        "\n"
      ],
      "metadata": {
        "id": "LATYb-a7PYaw"
      }
    },
    {
      "cell_type": "code",
      "source": [
        "from IPython.terminal.interactiveshell import Type\n",
        "def divide(x, y):\n",
        "    try:\n",
        "        result = x // y\n",
        "        print(\"Yeah ! Your answer is :\", result)\n",
        "\n",
        "    except ZeroDivisionError:\n",
        "        print(\"Sorry ! You are dividing by zero and not applicable\")\n",
        "\n",
        "    except TypeError:\n",
        "      print(\"Wrong input\")\n",
        "\n",
        "    except:\n",
        "      print(\"You have entered string\")\n",
        "    \n",
        "    \n",
        "   \n",
        "divide(3, 2)\n",
        "divide(3, \"abcd\")"
      ],
      "metadata": {
        "colab": {
          "base_uri": "https://localhost:8080/"
        },
        "id": "RHF-rG6rPSDl",
        "outputId": "25dc4e6b-7426-4c1e-8bcc-83d8df6cd633"
      },
      "execution_count": null,
      "outputs": [
        {
          "output_type": "stream",
          "name": "stdout",
          "text": [
            "Yeah ! Your answer is : 1\n",
            "Wrong input\n"
          ]
        }
      ]
    },
    {
      "cell_type": "code",
      "source": [
        "def divide(x, y):\n",
        "    try:\n",
        "        result = x // y\n",
        "    except ZeroDivisionError:\n",
        "        print(\"Sorry ! You are dividing by zero \")\n",
        "    else:\n",
        "        print(\"Yeah ! Your answer is :\", result)\n",
        " \n",
        "divide(3, 2)\n",
        "divide(3, 0)"
      ],
      "metadata": {
        "colab": {
          "base_uri": "https://localhost:8080/"
        },
        "id": "HLZ3YF4GPtWz",
        "outputId": "fb94b91f-843d-4387-a4cd-27d0c81374c9"
      },
      "execution_count": null,
      "outputs": [
        {
          "output_type": "stream",
          "name": "stdout",
          "text": [
            "Yeah ! Your answer is : 1\n",
            "Sorry ! You are dividing by zero \n"
          ]
        }
      ]
    },
    {
      "cell_type": "code",
      "source": [
        "def divide(x, y):\n",
        "    try:\n",
        "        result = x // y\n",
        "    \n",
        "    except ZeroDivisionError:\n",
        "        print(\"Sorry ! You are dividing by zero \")\n",
        "      \n",
        "\n",
        "    else:\n",
        "      print(\"Yeah ! Your answer is :\", result)\n",
        "\n",
        "    finally: \n",
        "        print('This is always executed')  \n",
        "    \n",
        "    \n",
        " \n",
        "# divide(3, 2)\n",
        "divide(3, 0)"
      ],
      "metadata": {
        "colab": {
          "base_uri": "https://localhost:8080/"
        },
        "id": "zISOllRkP877",
        "outputId": "4a9df93c-98c0-4ba0-c14f-5e38580a4772"
      },
      "execution_count": null,
      "outputs": [
        {
          "output_type": "stream",
          "name": "stdout",
          "text": [
            "Sorry ! You are dividing by zero \n",
            "This is always executed\n"
          ]
        }
      ]
    },
    {
      "cell_type": "markdown",
      "source": [
        "**Winning number game**"
      ],
      "metadata": {
        "id": "yX9RvCZC1FlC"
      }
    },
    {
      "cell_type": "code",
      "source": [
        "winning_num=51\n",
        "while(True):\n",
        "  try:\n",
        "    num = int(input(\"Enter no\"))\n",
        "  except:\n",
        "    print(\"You have not entered no\")\n",
        "  else:\n",
        "    print(f\"you have entered {num}\")\n",
        "\n",
        "    if num==winning_num:\n",
        "      print(\"You won!!\")\n",
        "      break\n",
        "\n",
        "    else:\n",
        "      if num<winning_num:\n",
        "        print(\"Try again with larger no\")\n",
        "      else:\n",
        "        print(\"Try again with smaller no\")\n",
        "    \n",
        "\n",
        "\n"
      ],
      "metadata": {
        "colab": {
          "base_uri": "https://localhost:8080/"
        },
        "id": "xqegtH4Y_2LG",
        "outputId": "6e18f8e7-6474-4538-de98-4420f4e47589"
      },
      "execution_count": null,
      "outputs": [
        {
          "output_type": "stream",
          "name": "stdout",
          "text": [
            "Enter nokusahl\n",
            "You have not entered no\n",
            "Enter nodayama\n",
            "You have not entered no\n",
            "Enter no23\n",
            "you have entered 23\n",
            "Try again with larger no\n",
            "Enter no49\n",
            "you have entered 49\n",
            "Try again with larger no\n",
            "Enter no50\n",
            "you have entered 50\n",
            "Try again with larger no\n",
            "Enter no52\n",
            "you have entered 52\n",
            "Try again with smaller no\n",
            "Enter no51\n",
            "you have entered 51\n",
            "You won!!\n"
          ]
        }
      ]
    }
  ]
}