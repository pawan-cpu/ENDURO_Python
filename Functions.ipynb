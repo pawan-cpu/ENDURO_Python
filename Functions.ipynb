{
  "cells": [
    {
      "cell_type": "markdown",
      "metadata": {
        "id": "view-in-github",
        "colab_type": "text"
      },
      "source": [
        "<a href=\"https://colab.research.google.com/github/pawan-cpu/ENDURO_Python/blob/main/Functions.ipynb\" target=\"_parent\"><img src=\"https://colab.research.google.com/assets/colab-badge.svg\" alt=\"Open In Colab\"/></a>"
      ]
    },
    {
      "cell_type": "code",
      "execution_count": null,
      "metadata": {
        "colab": {
          "base_uri": "https://localhost:8080/"
        },
        "id": "qCrVRCQfVqQa",
        "outputId": "79fbbe27-8a87-4f3f-eada-e18c49ed2bcf"
      },
      "outputs": [
        {
          "output_type": "stream",
          "name": "stdout",
          "text": [
            "Hello World\n"
          ]
        }
      ],
      "source": [
        "def scream():\n",
        "    print('Hello World')\n",
        "scream()\n"
      ]
    },
    {
      "cell_type": "code",
      "execution_count": null,
      "metadata": {
        "id": "DHGT2uQLVqQe"
      },
      "outputs": [],
      "source": [
        "def square(num):\n",
        "    out = num**2\n",
        "    return(out)\n"
      ]
    },
    {
      "cell_type": "code",
      "execution_count": null,
      "metadata": {
        "colab": {
          "base_uri": "https://localhost:8080/"
        },
        "id": "qww_kTfVVqQf",
        "outputId": "2009fe18-14a0-43e7-fb18-a42e762e1b46"
      },
      "outputs": [
        {
          "output_type": "stream",
          "name": "stdout",
          "text": [
            "9\n"
          ]
        }
      ],
      "source": [
        "sq_3 = square(3)\n",
        "print(sq_3)"
      ]
    },
    {
      "cell_type": "code",
      "execution_count": null,
      "metadata": {
        "id": "Sz0-dKRsVqQg"
      },
      "outputs": [],
      "source": [
        "def square(num):\n",
        "    out = num**2\n",
        "    print(out)\n"
      ]
    },
    {
      "cell_type": "code",
      "execution_count": null,
      "metadata": {
        "id": "Nt3ztgPpVqQh",
        "outputId": "4c069186-16c4-4c77-9324-3e1a81ce7327"
      },
      "outputs": [
        {
          "name": "stdout",
          "output_type": "stream",
          "text": [
            "16\n",
            "None\n",
            "Q isNone\n"
          ]
        }
      ],
      "source": [
        "q = square(4)\n",
        "print(q)\n",
        "print(\"Q is\"+str(q))\n"
      ]
    },
    {
      "cell_type": "code",
      "execution_count": null,
      "metadata": {
        "colab": {
          "base_uri": "https://localhost:8080/"
        },
        "id": "Kw7xJ32DVqQh",
        "outputId": "7323633b-1ccc-4c22-fcae-8618e8259fcc"
      },
      "outputs": [
        {
          "output_type": "stream",
          "name": "stdout",
          "text": [
            "120\n"
          ]
        }
      ],
      "source": [
        "## recursion \n",
        "\n",
        "## base case first\n",
        "## repeat function\n",
        "\n",
        "def factorial(n):\n",
        "    if n==0 or n==1:\n",
        "      return 1\n",
        "    else:\n",
        "        return n*factorial(n-1)\n",
        "fact = factorial(5)\n",
        "#5*factorial(4)\n",
        "#5*4*factorial(3)\n",
        "#5*4*3*factorial(2)\n",
        "\n",
        "#5*4*3*2*1\n",
        "\n",
        "print(factorial(5))\n"
      ]
    },
    {
      "cell_type": "code",
      "source": [
        "def addition(*args):\n",
        "    print(args, type(args))\n",
        "\n",
        "addition(2, 3)"
      ],
      "metadata": {
        "id": "4xeE2DLbe700"
      },
      "execution_count": null,
      "outputs": []
    },
    {
      "cell_type": "code",
      "source": [
        "def squaremyage(age):\n",
        "  return age**2"
      ],
      "metadata": {
        "id": "j7ocvN2tqZNT"
      },
      "execution_count": null,
      "outputs": []
    },
    {
      "cell_type": "code",
      "source": [
        "output=squaremyage(squaremyage(31))\n",
        "print(output)"
      ],
      "metadata": {
        "colab": {
          "base_uri": "https://localhost:8080/"
        },
        "id": "gTSBNow-qaJ7",
        "outputId": "9522c122-1094-41d5-9621-44dd68a2212c"
      },
      "execution_count": null,
      "outputs": [
        {
          "output_type": "stream",
          "name": "stdout",
          "text": [
            "923521\n"
          ]
        }
      ]
    },
    {
      "cell_type": "code",
      "execution_count": null,
      "metadata": {
        "id": "L-a1pVDAVqQi"
      },
      "outputs": [],
      "source": [
        "def addition(*args):\n",
        "    print(args)\n",
        "    print(type(args))\n",
        "    sum=0\n",
        "    for num in args:\n",
        "      sum+=num\n",
        "    return(sum)\n"
      ]
    },
    {
      "cell_type": "code",
      "execution_count": null,
      "metadata": {
        "colab": {
          "base_uri": "https://localhost:8080/"
        },
        "id": "xw4MxrtgVqQj",
        "outputId": "9c12caf9-211f-454f-d2d6-8a3830adffdb"
      },
      "outputs": [
        {
          "output_type": "stream",
          "name": "stdout",
          "text": [
            "(4, 5, 6, 7, 8, 9, 10, 11)\n",
            "<class 'tuple'>\n",
            "60\n",
            "(1, 2)\n",
            "<class 'tuple'>\n",
            "3\n"
          ]
        }
      ],
      "source": [
        "print(addition(4,5,6,7,8,9,10,11))\n",
        "print(addition(1,2))"
      ]
    },
    {
      "cell_type": "code",
      "source": [
        "## define myself\n",
        "#name,age,Adaarcard\n",
        "def definemyself(name,age=31,adhaarId='1234 1234'):\n",
        "  print(name,age,adhaarId)\n",
        "\n",
        "print(definemyself('abhishek'))\n"
      ],
      "metadata": {
        "colab": {
          "base_uri": "https://localhost:8080/"
        },
        "id": "WlYqC7guurIQ",
        "outputId": "e881b327-071d-493b-9176-997d747d9e15"
      },
      "execution_count": null,
      "outputs": [
        {
          "output_type": "stream",
          "name": "stdout",
          "text": [
            "abhishek 31 1234 1234\n",
            "None\n"
          ]
        }
      ]
    },
    {
      "cell_type": "code",
      "source": [
        "def describeaperson(**parameters):\n",
        "  for (key,value) in parameters.items():\n",
        "    print(key,value)\n",
        "\n",
        "\n",
        "describeaperson(name='abhishek', age=31, adhaarId='1234 1234',panNo='134 123')"
      ],
      "metadata": {
        "colab": {
          "base_uri": "https://localhost:8080/"
        },
        "id": "_ge39gaEe9dW",
        "outputId": "5049c688-1f02-4ec9-bf05-092b6ed4a496"
      },
      "execution_count": null,
      "outputs": [
        {
          "output_type": "stream",
          "name": "stdout",
          "text": [
            "name abhishek\n",
            "age 31\n",
            "adhaarId 1234 1234\n",
            "panNo 134 123\n"
          ]
        }
      ]
    },
    {
      "cell_type": "code",
      "source": [
        "def square(*args):\n",
        "  return [arg**2 for arg in args]\n",
        "print(square(1,2,3,4))"
      ],
      "metadata": {
        "colab": {
          "base_uri": "https://localhost:8080/"
        },
        "id": "GArAg3Y4xFxA",
        "outputId": "d68f2337-bb21-46ac-f24f-9fb254706cff"
      },
      "execution_count": null,
      "outputs": [
        {
          "output_type": "stream",
          "name": "stdout",
          "text": [
            "[1, 4, 9, 16]\n"
          ]
        }
      ]
    },
    {
      "cell_type": "code",
      "source": [
        "def total_fruits(**fruits):\n",
        "    total = 0\n",
        "    for amount in fruits.values():\n",
        "        total += amount\n",
        "    return total\n",
        "\n",
        "\n",
        "print(total_fruits(banana=5, mango=7, apple=8))\n"
      ],
      "metadata": {
        "id": "wU5ERw-Ne8oS"
      },
      "execution_count": null,
      "outputs": []
    },
    {
      "cell_type": "code",
      "execution_count": null,
      "metadata": {
        "id": "8ZQ8aSk9VqQj",
        "outputId": "a31cdd40-6afc-42e0-bf3f-30b714142702"
      },
      "outputs": [
        {
          "name": "stdout",
          "output_type": "stream",
          "text": [
            "Mahendra Singh Dhoni\n"
          ]
        }
      ],
      "source": [
        "def proper(some_text):\n",
        "    some_text = some_text.strip()\n",
        "    some_text = \" \".join([word[0].upper() + word[1:] for word in some_text.split()])\n",
        "    return some_text\n",
        "\n",
        "captain = proper(\"mahendra singh dhoni\")\n",
        "print(captain)\n"
      ]
    },
    {
      "cell_type": "code",
      "execution_count": null,
      "metadata": {
        "id": "teAHpnGGVqQk",
        "outputId": "5e227292-7172-41cb-ce89-524fb8e0d0ea"
      },
      "outputs": [
        {
          "name": "stdout",
          "output_type": "stream",
          "text": [
            "['Mahendra', 'Singh', 'Dhoni']\n",
            "<class 'function'>\n"
          ]
        }
      ],
      "source": [
        "string_to_list = lambda x: x.split()\n",
        "print(string_to_list(captain))\n",
        "print(type(string_to_list))\n"
      ]
    },
    {
      "cell_type": "code",
      "execution_count": null,
      "metadata": {
        "id": "lcXa3rIXVqQl",
        "outputId": "1b80bed2-a1ba-4e88-fa5c-de9eca7a159e"
      },
      "outputs": [
        {
          "name": "stdout",
          "output_type": "stream",
          "text": [
            "12\n"
          ]
        }
      ],
      "source": [
        "product = lambda x, y : x*y\n",
        "print(product(3,4))\n"
      ]
    },
    {
      "cell_type": "markdown",
      "source": [
        "Lambda is anonymous funcion"
      ],
      "metadata": {
        "id": "NwG2D54kRB3X"
      }
    },
    {
      "cell_type": "code",
      "execution_count": null,
      "metadata": {
        "id": "xG9vuWm8VqQl",
        "outputId": "2639eb73-c9ba-48cb-eae1-97f52289375e",
        "colab": {
          "base_uri": "https://localhost:8080/"
        }
      },
      "outputs": [
        {
          "output_type": "stream",
          "name": "stdout",
          "text": [
            "9996\n",
            "<function min at 0x7f4296e5cc20>\n",
            "<function <lambda> at 0x7f4296e5ccb0>\n"
          ]
        }
      ],
      "source": [
        "def min(a,b):\n",
        "  return a if a<b else b\n",
        "min2 = (lambda x, y: x if x < y else y)\n",
        "\n",
        "print(min(101*99, 102*98))\n",
        "print(min)\n",
        "print(min2)"
      ]
    },
    {
      "cell_type": "code",
      "execution_count": null,
      "metadata": {
        "id": "BpKEYk-SVqQm",
        "outputId": "db8eb037-eb31-47f3-ff56-0cbb2c7377a0"
      },
      "outputs": [
        {
          "name": "stdout",
          "output_type": "stream",
          "text": [
            "20\n"
          ]
        }
      ],
      "source": [
        "x=10\n",
        "y=20\n",
        "greater=lambda x,y: x if x>y else y\n",
        "\n",
        "print(greater(x,y))"
      ]
    },
    {
      "cell_type": "code",
      "execution_count": null,
      "metadata": {
        "id": "fAIynCQkVqQn"
      },
      "outputs": [],
      "source": []
    }
  ],
  "metadata": {
    "anaconda-cloud": {},
    "kernelspec": {
      "display_name": "Python 3",
      "language": "python",
      "name": "python3"
    },
    "language_info": {
      "codemirror_mode": {
        "name": "ipython",
        "version": 3
      },
      "file_extension": ".py",
      "mimetype": "text/x-python",
      "name": "python",
      "nbconvert_exporter": "python",
      "pygments_lexer": "ipython3",
      "version": "3.8.3"
    },
    "colab": {
      "provenance": [],
      "include_colab_link": true
    }
  },
  "nbformat": 4,
  "nbformat_minor": 0
}