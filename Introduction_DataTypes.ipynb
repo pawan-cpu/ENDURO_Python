{
  "cells": [
    {
      "cell_type": "markdown",
      "metadata": {
        "id": "view-in-github",
        "colab_type": "text"
      },
      "source": [
        "<a href=\"https://colab.research.google.com/github/pawan-cpu/ENDURO_Python/blob/main/Introduction_DataTypes.ipynb\" target=\"_parent\"><img src=\"https://colab.research.google.com/assets/colab-badge.svg\" alt=\"Open In Colab\"/></a>"
      ]
    },
    {
      "cell_type": "markdown",
      "source": [
        "### Welcome to the course on Python"
      ],
      "metadata": {
        "id": "lAE-GNDuXCrW"
      }
    },
    {
      "cell_type": "code",
      "execution_count": null,
      "metadata": {
        "colab": {
          "base_uri": "https://localhost:8080/"
        },
        "id": "pGKjvnXPU7d7",
        "outputId": "94b57c88-dbe6-42b6-efba-10c81aa1f123"
      },
      "outputs": [
        {
          "output_type": "stream",
          "name": "stdout",
          "text": [
            "This is my first line of code in python\n"
          ]
        }
      ],
      "source": [
        "print(\"This is my first line of code in python\")"
      ]
    },
    {
      "cell_type": "markdown",
      "source": [
        "### topics to cover:\n",
        "\n",
        "1. Print\n",
        "2. Escape Sequence\n",
        "3. Python as calculator\n",
        "4. Variables\n",
        "5. Printing and Formatting\n",
        "6. Slicing\n"
      ],
      "metadata": {
        "id": "kHRrUlXZW1Av"
      }
    },
    {
      "cell_type": "code",
      "source": [],
      "metadata": {
        "id": "0FDl9nZfgp9k"
      },
      "execution_count": null,
      "outputs": []
    },
    {
      "cell_type": "code",
      "execution_count": null,
      "metadata": {
        "colab": {
          "base_uri": "https://localhost:8080/"
        },
        "id": "u5pHaNcTU7eC",
        "outputId": "02300d3a-fd1b-46db-d084-01cf52fef564"
      },
      "outputs": [
        {
          "output_type": "stream",
          "name": "stdout",
          "text": [
            "Hello\n",
            "This is in the next line\n"
          ]
        }
      ],
      "source": [
        "print(\"Hello\\nThis is in the next line\")"
      ]
    },
    {
      "cell_type": "code",
      "source": [
        "print(\"This is my first line\\n This is my second line\")"
      ],
      "metadata": {
        "colab": {
          "base_uri": "https://localhost:8080/"
        },
        "id": "FmdwjIyCeBlD",
        "outputId": "5de2f768-b1e9-4334-844c-905b18868ac4"
      },
      "execution_count": null,
      "outputs": [
        {
          "output_type": "stream",
          "name": "stdout",
          "text": [
            "This is my first line\n",
            " This is my second line\n"
          ]
        }
      ]
    },
    {
      "cell_type": "code",
      "source": [
        "print(\"this is \\\" a test\")"
      ],
      "metadata": {
        "colab": {
          "base_uri": "https://localhost:8080/"
        },
        "id": "OO6TgjSLfMpu",
        "outputId": "60b47f34-ff29-4b30-8bd1-fbd363835638"
      },
      "execution_count": null,
      "outputs": [
        {
          "output_type": "stream",
          "name": "stdout",
          "text": [
            "this is \" a test\n"
          ]
        }
      ]
    },
    {
      "cell_type": "code",
      "source": [
        "print(\"this is \\\\n a test\")"
      ],
      "metadata": {
        "colab": {
          "base_uri": "https://localhost:8080/"
        },
        "id": "JXqCHzMwforz",
        "outputId": "c2743db1-bba1-4aee-ac7a-b7e067f92332"
      },
      "execution_count": null,
      "outputs": [
        {
          "output_type": "stream",
          "name": "stdout",
          "text": [
            "this is \\n a test\n"
          ]
        }
      ]
    },
    {
      "cell_type": "markdown",
      "source": [
        "\"This is my first line\\n This is my second line\"[link text](https://)"
      ],
      "metadata": {
        "id": "37pm-eH0eR69"
      }
    },
    {
      "cell_type": "code",
      "source": [
        "print(\"This is my first line\\\\n This is my second line\")"
      ],
      "metadata": {
        "colab": {
          "base_uri": "https://localhost:8080/"
        },
        "id": "jsvvlydxeTEH",
        "outputId": "764c3ff1-4936-4cb5-9aa4-c1bab9dc0984"
      },
      "execution_count": null,
      "outputs": [
        {
          "output_type": "stream",
          "name": "stdout",
          "text": [
            "This is my first line\\n This is my second line\n"
          ]
        }
      ]
    },
    {
      "cell_type": "code",
      "source": [
        "print(\"This is my first line \\ This is my second line\")"
      ],
      "metadata": {
        "colab": {
          "base_uri": "https://localhost:8080/"
        },
        "id": "LCt3fz8Fezlu",
        "outputId": "ff4c0cc4-1ca3-414c-dd71-955338846927"
      },
      "execution_count": null,
      "outputs": [
        {
          "output_type": "stream",
          "name": "stdout",
          "text": [
            "This is my first line \\ This is my second line\n"
          ]
        }
      ]
    },
    {
      "cell_type": "markdown",
      "source": [
        "The escape character in python is \"\\\\\"\n",
        "\n",
        "> Indented block\n",
        "\n"
      ],
      "metadata": {
        "id": "cpZ9ZNvleePM"
      }
    },
    {
      "cell_type": "code",
      "source": [
        "print(\"This is my first line\\tThis is my second line\")"
      ],
      "metadata": {
        "colab": {
          "base_uri": "https://localhost:8080/"
        },
        "id": "ujN7pwJjeJfU",
        "outputId": "5dd48ed4-722a-486d-ca62-ab7ac68bd7be"
      },
      "execution_count": null,
      "outputs": [
        {
          "output_type": "stream",
          "name": "stdout",
          "text": [
            "This is my first line\tThis is my second line\n"
          ]
        }
      ]
    },
    {
      "cell_type": "code",
      "source": [
        "### \\\\n/\\/\\/\n",
        "print('\\\\\\\\n/\\/\\/')\n"
      ],
      "metadata": {
        "colab": {
          "base_uri": "https://localhost:8080/"
        },
        "id": "oWPH8jE4eO0k",
        "outputId": "a9e6fb00-7080-4d73-ecca-d4954b047173"
      },
      "execution_count": null,
      "outputs": [
        {
          "output_type": "stream",
          "name": "stdout",
          "text": [
            "\\\\n/\\/\\/\n"
          ]
        }
      ]
    },
    {
      "cell_type": "code",
      "source": [
        "a=10;  # integer\n",
        "b='abhishek' ## string\n",
        "c=20.0 ## float\n",
        "print(a,b,c)"
      ],
      "metadata": {
        "colab": {
          "base_uri": "https://localhost:8080/"
        },
        "id": "gAQ37NOggr7Y",
        "outputId": "1df67634-867c-4983-bdd7-7c61258c62fc"
      },
      "execution_count": null,
      "outputs": [
        {
          "output_type": "stream",
          "name": "stdout",
          "text": [
            "10 abhishek 20.0\n"
          ]
        }
      ]
    },
    {
      "cell_type": "code",
      "source": [
        "a=b\n",
        "print(a)\n",
        "type(a)"
      ],
      "metadata": {
        "colab": {
          "base_uri": "https://localhost:8080/"
        },
        "id": "DRi_NXOahWW9",
        "outputId": "1f877b03-bcb5-40b1-efcb-4ce356e4c2a7"
      },
      "execution_count": null,
      "outputs": [
        {
          "output_type": "stream",
          "name": "stdout",
          "text": [
            "abhishek\n"
          ]
        },
        {
          "output_type": "execute_result",
          "data": {
            "text/plain": [
              "str"
            ]
          },
          "metadata": {},
          "execution_count": 22
        }
      ]
    },
    {
      "cell_type": "code",
      "execution_count": null,
      "metadata": {
        "colab": {
          "base_uri": "https://localhost:8080/"
        },
        "id": "UDLMGdEhU7eF",
        "outputId": "f9c9855e-fc98-411a-b72e-f5f176fd2d6d"
      },
      "outputs": [
        {
          "output_type": "stream",
          "name": "stdout",
          "text": [
            "13\n",
            "-1\n",
            "42\n",
            "0.8571428571428571\n",
            "0\n",
            "6\n",
            "279936\n"
          ]
        }
      ],
      "source": [
        "a = 6\n",
        "b = 7\n",
        "\n",
        "print(a + b)  # 13\n",
        "\n",
        "print(a - b) # -1\n",
        "print(a * b) # 42\n",
        "print(a / b) # \n",
        "print(a // b) ## floor of the quotient\n",
        "print(a % b) ## modulo operator\n",
        "print(a ** b) ## exponent"
      ]
    },
    {
      "cell_type": "code",
      "source": [
        "a=5\n",
        "b=2\n",
        "c=3\n",
        "\n",
        "print(a**b**c)\n",
        "print(b**c)\n",
        "\n",
        "d=b**c\n",
        "e= a**d\n",
        "\n",
        "print(d)\n",
        "print(e)"
      ],
      "metadata": {
        "colab": {
          "base_uri": "https://localhost:8080/"
        },
        "id": "uMl_nR0fjJz8",
        "outputId": "9ba43b95-7b92-47ea-e846-9a716fe99ce6"
      },
      "execution_count": null,
      "outputs": [
        {
          "output_type": "stream",
          "name": "stdout",
          "text": [
            "390625\n",
            "8\n",
            "8\n",
            "390625\n"
          ]
        }
      ]
    },
    {
      "cell_type": "code",
      "source": [
        "print(5*4+2)"
      ],
      "metadata": {
        "id": "ISbr4xv5kGzh"
      },
      "execution_count": null,
      "outputs": []
    },
    {
      "cell_type": "code",
      "source": [
        "import math\n",
        "a=6\n",
        "b=7\n",
        "print(math.ceil(a/b))"
      ],
      "metadata": {
        "colab": {
          "base_uri": "https://localhost:8080/"
        },
        "id": "aNMAPBA0iK1N",
        "outputId": "69853045-acb0-46fe-e785-c35d790383fb"
      },
      "execution_count": null,
      "outputs": [
        {
          "output_type": "stream",
          "name": "stdout",
          "text": [
            "1\n"
          ]
        }
      ]
    },
    {
      "cell_type": "code",
      "execution_count": null,
      "metadata": {
        "id": "Njos2Uo-U7eH"
      },
      "outputs": [],
      "source": [
        "#BEDMAS\n",
        "print(4 * 5 - 9 + 6 / 7)"
      ]
    },
    {
      "cell_type": "code",
      "execution_count": null,
      "metadata": {
        "colab": {
          "base_uri": "https://localhost:8080/"
        },
        "id": "qMmu6tWiU7eJ",
        "outputId": "0ea6718f-c972-4ea3-e6da-426e57328b07"
      },
      "outputs": [
        {
          "output_type": "stream",
          "name": "stdout",
          "text": [
            "11\n",
            "9\n"
          ]
        }
      ],
      "source": [
        "inc = 9\n",
        "inc += 1\n",
        "inc=inc+1\n",
        "print(inc)\n",
        "inc -= 1\n",
        "inc = inc-1\n",
        "print(inc)"
      ]
    },
    {
      "cell_type": "code",
      "source": [
        "a = 'this is my string'\n",
        "print(a[0]+a[1]+a[2])\n",
        "print(a[-3]+a[-2]+a[-1])"
      ],
      "metadata": {
        "colab": {
          "base_uri": "https://localhost:8080/"
        },
        "id": "IlLtJW23uNIJ",
        "outputId": "56ff3a58-ec5b-43fa-98a1-fc5ef9cf17e8"
      },
      "execution_count": null,
      "outputs": [
        {
          "output_type": "stream",
          "name": "stdout",
          "text": [
            "thi\n",
            "ing\n"
          ]
        }
      ]
    },
    {
      "cell_type": "code",
      "source": [
        "a = '1234'\n",
        "print(len(a))\n",
        "try:\n",
        "  print(7/0)\n",
        "except IndexError:\n",
        "  print('Index error')\n",
        "except:\n",
        "  print('generic error')"
      ],
      "metadata": {
        "colab": {
          "base_uri": "https://localhost:8080/"
        },
        "id": "UQUhyjW0uu8D",
        "outputId": "5c5f36f0-c7bc-4f62-aaa4-8a22d12ab11d"
      },
      "execution_count": null,
      "outputs": [
        {
          "output_type": "stream",
          "name": "stdout",
          "text": [
            "4\n",
            "generic error\n"
          ]
        }
      ]
    },
    {
      "cell_type": "code",
      "execution_count": null,
      "metadata": {
        "id": "W2zFcVo1U7eL"
      },
      "outputs": [],
      "source": [
        "#Logical\n",
        "print(3 < 4)\n",
        "print(True and False) \n",
        "print(True or False)\n",
        "print(a!=b) \n",
        "print(True and not False)"
      ]
    },
    {
      "cell_type": "markdown",
      "source": [
        "\n",
        "      OR AND\n",
        "0 0   0   0\n",
        "1 0   1   0\n",
        "0 1   1   0\n",
        "1 1   1   1"
      ],
      "metadata": {
        "id": "6PLmbXuXtGEh"
      }
    },
    {
      "cell_type": "code",
      "source": [
        " a=True\n",
        "b=not False\n",
        "print(a and b)\n",
        "\n",
        "if True and not False:\n",
        "  print ('i am attending')"
      ],
      "metadata": {
        "colab": {
          "base_uri": "https://localhost:8080/"
        },
        "id": "DpG489Mjmbv_",
        "outputId": "727eeb51-8ba5-4179-e704-f6575fa2b426"
      },
      "execution_count": null,
      "outputs": [
        {
          "output_type": "stream",
          "name": "stdout",
          "text": [
            "True\n",
            "i am attending\n"
          ]
        }
      ]
    },
    {
      "cell_type": "code",
      "source": [
        "print(3 < 1)"
      ],
      "metadata": {
        "colab": {
          "base_uri": "https://localhost:8080/"
        },
        "id": "gOsjuop9k2pr",
        "outputId": "8dbcc598-52c6-4c63-c656-a55c18cb8ea3"
      },
      "execution_count": null,
      "outputs": [
        {
          "output_type": "stream",
          "name": "stdout",
          "text": [
            "False\n"
          ]
        }
      ]
    },
    {
      "cell_type": "code",
      "source": [
        "if (3<1):\n",
        "  print('i am attending the class')\n",
        "else:\n",
        "  print('i have something more urgent')"
      ],
      "metadata": {
        "colab": {
          "base_uri": "https://localhost:8080/"
        },
        "id": "4O05n3cPlDF4",
        "outputId": "393aa5ef-2042-4489-f92c-13f263832d4e"
      },
      "execution_count": null,
      "outputs": [
        {
          "output_type": "stream",
          "name": "stdout",
          "text": [
            "i have something more urgent\n"
          ]
        }
      ]
    },
    {
      "cell_type": "code",
      "execution_count": null,
      "metadata": {
        "colab": {
          "base_uri": "https://localhost:8080/"
        },
        "id": "L_896RwsU7eM",
        "outputId": "03ca75b0-b425-4878-f891-63fcd3384e84"
      },
      "outputs": [
        {
          "output_type": "stream",
          "name": "stdout",
          "text": [
            "I AM UPPER CASED\n",
            "i am lower cased\n"
          ]
        }
      ],
      "source": [
        "small = \"i am upper cased\"\n",
        "print(small.upper())\n",
        "\n",
        "large = \"I AM LOWER CASED\"\n",
        "print(large.lower())\n"
      ]
    },
    {
      "cell_type": "code",
      "execution_count": null,
      "metadata": {
        "colab": {
          "base_uri": "https://localhost:8080/"
        },
        "id": "0GhRomxqU7eP",
        "outputId": "d1aea57c-2205-4368-e287-7a9ab6190216"
      },
      "outputs": [
        {
          "output_type": "stream",
          "name": "stdout",
          "text": [
            "    There is a space at the end    \t\n",
            "    There is a space at the end\n",
            "There is a space at the end    \t\n",
            "There is a space at the end\n"
          ]
        }
      ],
      "source": [
        "some_sentence = \"    There is a space at the end    \\t\"\n",
        "print(some_sentence)\n",
        "print(some_sentence.rstrip())\n",
        "print(some_sentence.lstrip())\n",
        "print(some_sentence.strip())\n"
      ]
    },
    {
      "cell_type": "code",
      "execution_count": null,
      "metadata": {
        "colab": {
          "base_uri": "https://localhost:8080/"
        },
        "id": "LIiS6V5bU7eR",
        "outputId": "cc9d177f-4be9-4096-d64f-53f5548b83db"
      },
      "outputs": [
        {
          "output_type": "stream",
          "name": "stdout",
          "text": [
            "4\n"
          ]
        }
      ],
      "source": [
        "increment = '4%'\n",
        "print(increment.rstrip('%')) "
      ]
    },
    {
      "cell_type": "code",
      "execution_count": null,
      "metadata": {
        "id": "zmPDn8JqU7eY"
      },
      "outputs": [],
      "source": [
        "start = \"   There is space at the start\"\n",
        "print(start)\n",
        "print(start.lstrip())"
      ]
    },
    {
      "cell_type": "code",
      "execution_count": null,
      "metadata": {
        "id": "aXihZ6ZBU7ea"
      },
      "outputs": [],
      "source": [
        "spaces = \"   Trim whitespaces  \"\n",
        "print(spaces)\n",
        "print(spaces.strip())"
      ]
    },
    {
      "cell_type": "code",
      "execution_count": null,
      "metadata": {
        "colab": {
          "base_uri": "https://localhost:8080/"
        },
        "id": "MIHfiZhRU7ed",
        "outputId": "9f17f5b2-cbfc-4a00-f2cf-57c71d96325f"
      },
      "outputs": [
        {
          "output_type": "stream",
          "name": "stdout",
          "text": [
            "444# \n"
          ]
        }
      ],
      "source": [
        "num_with_chars = '*444# #'\n",
        "print(num_with_chars.rstrip('#').lstrip('*'))"
      ]
    },
    {
      "cell_type": "code",
      "execution_count": null,
      "metadata": {
        "colab": {
          "base_uri": "https://localhost:8080/",
          "height": 70
        },
        "id": "-906LI0EU7ef",
        "outputId": "ca29cff7-d662-4625-dba6-16500be37a26"
      },
      "outputs": [
        {
          "output_type": "stream",
          "name": "stdout",
          "text": [
            "number of apples is 2\n",
            "a\n"
          ]
        },
        {
          "output_type": "execute_result",
          "data": {
            "text/plain": [
              "'e'"
            ],
            "application/vnd.google.colaboratory.intrinsic+json": {
              "type": "string"
            }
          },
          "metadata": {},
          "execution_count": 66
        }
      ],
      "source": [
        "val = \"2 apples\"\n",
        "no_of_apples = val[1:] ## indexing\n",
        "print('number of apples is', no_of_apples)\n",
        "print(val[2])\n",
        "val[-2]"
      ]
    },
    {
      "cell_type": "code",
      "source": [
        "what = val[1:6]\n",
        "print(what)"
      ],
      "metadata": {
        "colab": {
          "base_uri": "https://localhost:8080/"
        },
        "id": "JCSsaFOrq5Rh",
        "outputId": "bc43af92-a8fc-4dba-d54a-d67de938f5a0"
      },
      "execution_count": null,
      "outputs": [
        {
          "output_type": "stream",
          "name": "stdout",
          "text": [
            " appl\n"
          ]
        }
      ]
    },
    {
      "cell_type": "code",
      "execution_count": null,
      "metadata": {
        "colab": {
          "base_uri": "https://localhost:8080/"
        },
        "id": "TPz4bt6VU7eh",
        "outputId": "9730fc28-2dae-4fc0-e4ec-e20c64c7b022"
      },
      "outputs": [
        {
          "output_type": "stream",
          "name": "stdout",
          "text": [
            " pls\n"
          ]
        }
      ],
      "source": [
        "val = \"2 apples are there\"\n",
        "what = val[1:8:2]\n",
        "print(what)"
      ]
    },
    {
      "cell_type": "code",
      "source": [],
      "metadata": {
        "id": "wQ7PbxuVq3VL"
      },
      "execution_count": null,
      "outputs": []
    },
    {
      "cell_type": "code",
      "execution_count": null,
      "metadata": {
        "id": "_PWysliPU7ej"
      },
      "outputs": [],
      "source": [
        "#slicing by specifying start and end index\n",
        "print(val[2:5])\n"
      ]
    },
    {
      "cell_type": "code",
      "execution_count": null,
      "metadata": {
        "id": "O9r3I92LU7em"
      },
      "outputs": [],
      "source": [
        "batch = \"5 oranges 3 monkeys n\"\n",
        "fruits = batch[ :9]\n",
        "print(fruits)"
      ]
    },
    {
      "cell_type": "code",
      "execution_count": null,
      "metadata": {
        "id": "XfN7VecFU7eo"
      },
      "outputs": [],
      "source": [
        "print(batch[ :-2])"
      ]
    },
    {
      "cell_type": "code",
      "execution_count": null,
      "metadata": {
        "id": "MJ4iP7GkU7ep"
      },
      "outputs": [],
      "source": [
        "animals = batch[10:-2]\n",
        "print(animals)"
      ]
    },
    {
      "cell_type": "code",
      "execution_count": null,
      "metadata": {
        "colab": {
          "base_uri": "https://localhost:8080/"
        },
        "id": "nWOQbg0mU7eq",
        "outputId": "bd9f9336-7a2e-4f70-c083-350d79c8bfa1"
      },
      "outputs": [
        {
          "output_type": "stream",
          "name": "stdout",
          "text": [
            "2468\n"
          ]
        }
      ],
      "source": [
        "nums = '123456789'\n",
        "even_nums = nums[1::2]\n",
        "print(even_nums)"
      ]
    },
    {
      "cell_type": "code",
      "execution_count": null,
      "metadata": {
        "id": "vLR38Ov0U7es"
      },
      "outputs": [],
      "source": [
        "odd_nums = nums[0::2]\n",
        "print(odd_nums)"
      ]
    },
    {
      "cell_type": "code",
      "execution_count": null,
      "metadata": {
        "collapsed": true,
        "id": "8iErQffqU7et"
      },
      "outputs": [],
      "source": [
        "odd_nums_again = nums[ :: 2]\n"
      ]
    },
    {
      "cell_type": "code",
      "execution_count": null,
      "metadata": {
        "collapsed": true,
        "id": "41lkfivXU7ev"
      },
      "outputs": [],
      "source": [
        "first_name = \"Monty\"\n",
        "last_name = 'Python'"
      ]
    },
    {
      "cell_type": "code",
      "execution_count": null,
      "metadata": {
        "colab": {
          "base_uri": "https://localhost:8080/"
        },
        "id": "qBjvliZgU7ew",
        "outputId": "9d62c18b-b5ae-43b3-94f0-780c431589f6"
      },
      "outputs": [
        {
          "output_type": "stream",
          "name": "stdout",
          "text": [
            "MontyPython\n"
          ]
        }
      ],
      "source": [
        "name = first_name  + last_name\n",
        "print(name)"
      ]
    },
    {
      "cell_type": "code",
      "execution_count": null,
      "metadata": {
        "collapsed": true,
        "colab": {
          "base_uri": "https://localhost:8080/"
        },
        "id": "Sirn8rmaU7ey",
        "outputId": "81dd04c7-5846-4223-9f58-f6ab1028e6ea"
      },
      "outputs": [
        {
          "output_type": "stream",
          "name": "stdout",
          "text": [
            "<class 'int'>\n",
            "I am 30 years old\n"
          ]
        }
      ],
      "source": [
        "age = 30\n",
        "print(type(age))\n",
        "my_age = (\"I am \"+ str(age) + \" years old\")\n",
        "print(my_age)"
      ]
    },
    {
      "cell_type": "code",
      "execution_count": null,
      "metadata": {
        "collapsed": true,
        "id": "9ee4rfltU7ez"
      },
      "outputs": [],
      "source": [
        "My_age = \"I am {0} years old\".format(age) "
      ]
    },
    {
      "cell_type": "code",
      "execution_count": null,
      "metadata": {
        "colab": {
          "base_uri": "https://localhost:8080/"
        },
        "id": "TcozHYEZU7e3",
        "outputId": "69b44e23-9ee4-4a96-809a-121f2693149a"
      },
      "outputs": [
        {
          "output_type": "stream",
          "name": "stdout",
          "text": [
            "Data Analysis using Pandas\n",
            "Data Analysis using Pandas\n",
            "Data Analysis using Pandas\n",
            "Data Analysis using Pandas\n"
          ]
        }
      ],
      "source": [
        "A = \"Data\"\n",
        "B = \"Analysis\"\n",
        "C = \"Pandas\"\n",
        "\n",
        "print(\"{0} {1} using {2}\".format(A,B,C))\n",
        "print(f\"{A} {B} using {C}\")\n",
        "print(str(A) +\" \"+ str(B)+  \" using \"+str(C))\n",
        "print(A +\" \"+ B+  \" using \"+C)\n"
      ]
    },
    {
      "cell_type": "code",
      "execution_count": null,
      "metadata": {
        "id": "HuTPT91MU7e5"
      },
      "outputs": [],
      "source": [
        "#concat and update\n",
        "name += ' ' + my_age\n",
        "print(name)"
      ]
    }
  ],
  "metadata": {
    "anaconda-cloud": {},
    "kernelspec": {
      "display_name": "Python 3",
      "language": "python",
      "name": "python3"
    },
    "language_info": {
      "codemirror_mode": {
        "name": "ipython",
        "version": 3
      },
      "file_extension": ".py",
      "mimetype": "text/x-python",
      "name": "python",
      "nbconvert_exporter": "python",
      "pygments_lexer": "ipython3",
      "version": "3.5.2"
    },
    "colab": {
      "provenance": [],
      "include_colab_link": true
    }
  },
  "nbformat": 4,
  "nbformat_minor": 0
}