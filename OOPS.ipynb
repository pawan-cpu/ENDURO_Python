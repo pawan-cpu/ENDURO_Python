{
  "cells": [
    {
      "cell_type": "markdown",
      "metadata": {
        "id": "view-in-github",
        "colab_type": "text"
      },
      "source": [
        "<a href=\"https://colab.research.google.com/github/pawan-cpu/ENDURO_Python/blob/main/OOPS.ipynb\" target=\"_parent\"><img src=\"https://colab.research.google.com/assets/colab-badge.svg\" alt=\"Open In Colab\"/></a>"
      ]
    },
    {
      "cell_type": "markdown",
      "source": [
        "Decorators\n",
        "\n",
        "DRY - Do not repeat yourselves\n",
        "\n"
      ],
      "metadata": {
        "id": "skP9cSWommnb"
      }
    },
    {
      "cell_type": "code",
      "source": [
        "def check(func):\n",
        "  def inside(a,b):\n",
        "    if b==0:\n",
        "      print(\"Can't divide by 0\")\n",
        "      return\n",
        "    return func(a,b)\n",
        "  return inside\n",
        "\n",
        "@check\n",
        "def div(a,b):\n",
        "  return a/b\n",
        "\n",
        "# div(10,0)\n",
        "# d=check(div)\n",
        "# print(d(10,5))\n",
        "\n",
        "print(div(10,0))"
      ],
      "metadata": {
        "id": "-VivJNnKmr0Y",
        "outputId": "b8e5c20b-6798-41c9-bd3b-125756f7b57e",
        "colab": {
          "base_uri": "https://localhost:8080/"
        }
      },
      "execution_count": null,
      "outputs": [
        {
          "output_type": "stream",
          "name": "stdout",
          "text": [
            "Can't divide by 0\n",
            "None\n"
          ]
        }
      ]
    },
    {
      "cell_type": "code",
      "source": [
        "def dec(func):\n",
        "  def wrap():\n",
        "    print(\"hello world\")\n",
        "    func()\n",
        "  return wrap \n",
        "\n",
        "def a():\n",
        "  # print(\"Hello World\")\n",
        "  print(\"kushal\")\n",
        "\n",
        "def b():\n",
        "  # print(\"Hello World\")\n",
        "  print(\"dayama\")\n",
        "\n",
        "\n",
        "f = dec(a)\n",
        "f()\n",
        "\n",
        "g = dec(b)\n",
        "g()"
      ],
      "metadata": {
        "id": "oFt7wLzDxEXV",
        "outputId": "cbf58d25-0923-4f2e-b9a0-43fdd2c35b8d",
        "colab": {
          "base_uri": "https://localhost:8080/"
        }
      },
      "execution_count": null,
      "outputs": [
        {
          "output_type": "stream",
          "name": "stdout",
          "text": [
            "hello world\n",
            "kushal\n",
            "hello world\n",
            "dayama\n"
          ]
        }
      ]
    },
    {
      "cell_type": "markdown",
      "metadata": {
        "id": "WIgHOtCimCgR"
      },
      "source": [
        "# Object-Oriented Programming"
      ]
    },
    {
      "cell_type": "markdown",
      "source": [
        " difference between Structure and classes \n",
        "- abstraction\n",
        "- amount of data\n",
        "- specifier as public, private\n"
      ],
      "metadata": {
        "id": "YHo-_QQLmlSG"
      }
    },
    {
      "cell_type": "markdown",
      "metadata": {
        "id": "U1w3EFyUmCgW"
      },
      "source": [
        "## Class"
      ]
    },
    {
      "cell_type": "markdown",
      "metadata": {
        "id": "qpdMGdOVmCgX"
      },
      "source": [
        "- Each class has its defined attributes and methods"
      ]
    },
    {
      "cell_type": "code",
      "execution_count": null,
      "metadata": {
        "id": "EUW3Gv5jmCgY",
        "outputId": "00b6dbc3-c8a5-445c-90e9-370305141ef3",
        "colab": {
          "base_uri": "https://localhost:8080/"
        }
      },
      "outputs": [
        {
          "output_type": "stream",
          "name": "stdout",
          "text": [
            "enter your salary20000\n",
            "Corey\n",
            "20000\n",
            "60000\n",
            "Corey.Schafer@gmail.com\n",
            "Corey Schafer\n"
          ]
        }
      ],
      "source": [
        "# Define a class\n",
        "class Employee:\n",
        "\n",
        "    # Constructor method\n",
        "    def __init__(self, first, last, pay=1000):\n",
        "        self.first = first\n",
        "        self.last = last\n",
        "        self.email = first + '.' + last + '@gmail.com'\n",
        "        self.pay = pay\n",
        "\n",
        "    # instance method (instance refers to object and object refers to memory location)\n",
        "    def fullname(self):\n",
        "        return '{} {}'.format(self.first, self.last)\n",
        "\n",
        "a=int(input(\"enter your salary\"))\n",
        "\n",
        "emp_1 = Employee('Corey', 'Schafer', a)\n",
        "emp_2 = Employee('Test', 'Employee', 60000)\n",
        "\n",
        "print(emp_1.first)\n",
        "print(emp_1.pay)\n",
        "print(emp_2.pay)\n",
        "\n",
        "print(emp_1.email)\n",
        "print(emp_1.fullname())\n",
        "\n"
      ]
    },
    {
      "cell_type": "markdown",
      "metadata": {
        "id": "vRsXL1AGmCga"
      },
      "source": [
        "## Types of Methods"
      ]
    },
    {
      "cell_type": "markdown",
      "metadata": {
        "id": "-dphver-mCgb"
      },
      "source": [
        "- **Class** Method: a method bound to the class and with `cls` as the first default argument\n",
        "- **Static** Method: a self-contained method bound to the class (just for that class if you want to use and it is like normal function)\n",
        "- **Instance** Method: a method bound to the object instance of the class with `self` as the first default argument"
      ]
    },
    {
      "cell_type": "code",
      "execution_count": null,
      "metadata": {
        "id": "CsbLRJQnmCgb",
        "outputId": "566213d4-001c-4403-d051-d83b6c2c107d",
        "colab": {
          "base_uri": "https://localhost:8080/"
        }
      },
      "outputs": [
        {
          "output_type": "stream",
          "name": "stdout",
          "text": [
            "1.05\n",
            "1.05\n",
            "1.05\n",
            "John.Doe@email.com\n",
            "70000\n",
            "True\n"
          ]
        }
      ],
      "source": [
        "class Employee:\n",
        "\n",
        "    num_of_emps = 0\n",
        "    raise_amt = 1.04\n",
        "\n",
        "    def __init__(self, first, last, pay):\n",
        "        self.first = first\n",
        "        self.last = last\n",
        "        self.email = first + '.' + last + '@email.com'\n",
        "        self.pay = pay\n",
        "\n",
        "        Employee.num_of_emps += 1\n",
        "\n",
        "    def fullname(self):\n",
        "        return '{} {}'.format(self.first, self.last)\n",
        "\n",
        "    def apply_raise(self):\n",
        "        self.pay = int(self.pay * self.raise_amt)\n",
        "\n",
        "    @classmethod\n",
        "    def set_raise_amt(cls, amount):\n",
        "        cls.raise_amt = amount\n",
        "\n",
        "    @classmethod\n",
        "    def from_string(cls, emp_str):\n",
        "        first, last, pay = emp_str.split('-')\n",
        "        return cls(first, last, pay)\n",
        "\n",
        "    @staticmethod\n",
        "    def is_workday(day):\n",
        "        if day.weekday() == 5 or day.weekday() == 6:\n",
        "            return False\n",
        "        return True\n",
        "\n",
        "\n",
        "emp_1 = Employee('Corey', 'Schafer', 50000)\n",
        "emp_2 = Employee('Test', 'Employee', 60000)\n",
        "\n",
        "Employee.set_raise_amt(1.05)\n",
        "\n",
        "print(Employee.raise_amt)\n",
        "print(emp_1.raise_amt)\n",
        "print(emp_2.raise_amt)\n",
        "\n",
        "emp_str_1 = 'John-Doe-70000'\n",
        "emp_str_2 = 'Steve-Smith-30000'\n",
        "emp_str_3 = 'Jane-Doe-90000'\n",
        "\n",
        "first, last, pay = emp_str_1.split('-')\n",
        "\n",
        "#new_emp_1 = Employee(first, last, pay)\n",
        "new_emp_1 = Employee.from_string(emp_str_1)\n",
        "\n",
        "print(new_emp_1.email)\n",
        "print(new_emp_1.pay)\n",
        "\n",
        "import datetime\n",
        "my_date = datetime.date(2016, 7, 11)\n",
        "\n",
        "print(Employee.is_workday(my_date))"
      ]
    },
    {
      "cell_type": "markdown",
      "source": [
        "overloading\n",
        "\n",
        "multiple dispatch\n",
        "from multipledispatch import dispatch\n",
        "\n",
        "@dispatch(int,int)"
      ],
      "metadata": {
        "id": "M_a-DmKlssOd"
      }
    },
    {
      "cell_type": "code",
      "source": [
        "from multipledispatch import dispatch\n",
        "\n",
        "class Addition:\n",
        "\t# first sum for 2 params\n",
        "\t@dispatch(int, int)  #to avoid missing arg error\n",
        "\tdef my_sum(self, a, b):\n",
        "\t\treturn a + b\n",
        "\t\n",
        "\t# second overloaded sum for 3 params\n",
        "\t@dispatch(int, int, int) #to avoid missing arg error\n",
        "\tdef my_sum(self, a, b, c):\n",
        "\t\treturn a + b + c\n",
        "\n",
        "A=Addition()\n",
        "print(A.my_sum(2,4))"
      ],
      "metadata": {
        "id": "BvaTbLgKsu6v",
        "outputId": "3b263a80-fdc5-4775-b46d-5bac5671090b",
        "colab": {
          "base_uri": "https://localhost:8080/"
        }
      },
      "execution_count": null,
      "outputs": [
        {
          "output_type": "stream",
          "name": "stdout",
          "text": [
            "6\n"
          ]
        }
      ]
    },
    {
      "cell_type": "code",
      "source": [
        "class Addition:\n",
        "\n",
        "# adding default argument to avoid error\n",
        "\tdef my_sum(self, a, b):\n",
        "\t\treturn a + b + c\n",
        "\t\n",
        "\tdef my_sum(self, a, b, c=0):\n",
        "\t\treturn a + b + c\n",
        "\n",
        "A=Addition()\n",
        "print(A.my_sum(2,4))"
      ],
      "metadata": {
        "colab": {
          "base_uri": "https://localhost:8080/"
        },
        "id": "SFDzeajVAGuB",
        "outputId": "0487943b-b59f-4c6c-e841-c5f0052d58c6"
      },
      "execution_count": null,
      "outputs": [
        {
          "output_type": "stream",
          "name": "stdout",
          "text": [
            "6\n"
          ]
        }
      ]
    },
    {
      "cell_type": "markdown",
      "metadata": {
        "id": "Wnoe5J3emCge"
      },
      "source": [
        "## Class Inheritance"
      ]
    },
    {
      "cell_type": "markdown",
      "metadata": {
        "id": "kYQ99yrNmCgf"
      },
      "source": [
        "- The key of OOP\n",
        "- Extend the original class constructor methods using `super()`\n"
      ]
    },
    {
      "cell_type": "code",
      "execution_count": null,
      "metadata": {
        "id": "va3gUkRcmCgg",
        "outputId": "61473060-1f21-4b31-a0bf-65be2d74b5ee",
        "colab": {
          "base_uri": "https://localhost:8080/"
        }
      },
      "outputs": [
        {
          "output_type": "stream",
          "name": "stdout",
          "text": [
            "Sue.Smith@email.com\n",
            "--> Corey Schafer\n"
          ]
        }
      ],
      "source": [
        "class Employee:\n",
        "\n",
        "    raise_amt = 1.04\n",
        "\n",
        "    def __init__(self, first, last, pay):\n",
        "        self.first = first\n",
        "        self.last = last\n",
        "        self.email = first + '.' + last + '@email.com'\n",
        "        self.pay = pay\n",
        "\n",
        "    def fullname(self):\n",
        "        return '{} {}'.format(self.first, self.last)\n",
        "\n",
        "    def apply_raise(self):\n",
        "        self.pay = int(self.pay * self.raise_amt)\n",
        "\n",
        "\n",
        "class Developer(Employee):\n",
        "    raise_amt = 1.10\n",
        "\n",
        "    def __init__(self, first, last, pay, prog_lang):\n",
        "        super().__init__(first, last, pay)\n",
        "        self.prog_lang = prog_lang\n",
        "\n",
        "\n",
        "class Manager(Employee):\n",
        "\n",
        "    def __init__(self, first, last, pay, employees=None):\n",
        "        super().__init__(first, last, pay)\n",
        "        if employees is None:\n",
        "            self.employees = []\n",
        "        else:\n",
        "            self.employees = employees\n",
        "\n",
        "    def add_emp(self, emp):\n",
        "        if emp not in self.employees:\n",
        "            self.employees.append(emp)\n",
        "\n",
        "    def remove_emp(self, emp):\n",
        "        if emp in self.employees:\n",
        "            self.employees.remove(emp)\n",
        "\n",
        "    def print_emps(self):\n",
        "        for emp in self.employees:\n",
        "            print('-->', emp.fullname())\n",
        "\n",
        "\n",
        "dev_1 = Developer('Corey', 'Schafer', 50000, 'Python')\n",
        "dev_2 = Developer('Test', 'Employee', 60000, 'Java')\n",
        "\n",
        "mgr_1 = Manager('Sue', 'Smith', 90000, [dev_1])\n",
        "\n",
        "print(mgr_1.email)\n",
        "\n",
        "mgr_1.add_emp(dev_2)\n",
        "mgr_1.remove_emp(dev_2)\n",
        "\n",
        "mgr_1.print_emps()"
      ]
    },
    {
      "cell_type": "markdown",
      "metadata": {
        "id": "rrq-1EePmCgi"
      },
      "source": [
        "## Checking Functions"
      ]
    },
    {
      "cell_type": "markdown",
      "metadata": {
        "id": "ID4g8RycmCgj"
      },
      "source": [
        "- `isinstance()`: True, if object belongs to the given class otherwise false\n",
        "- `issubclass()`: Check class inheritance"
      ]
    },
    {
      "cell_type": "code",
      "source": [
        "# declaring classes\n",
        "class g1:\n",
        "    a = 10\n",
        " \n",
        "# inherited class\n",
        "class g2(g1):\n",
        "    string = 'GeeksforGeeks'\n",
        " \n",
        " \n",
        "# initializing objects\n",
        "obj1 = g1()\n",
        "obj2 = g2()\n",
        " \n",
        "# checking instances\n",
        "print(\"Is obj1 instance of g1? : \" + str(isinstance(obj1, g1)))\n",
        "print(\"Is obj2 instance of g2? : \" + str(isinstance(obj2, g2)))\n",
        "print(\"Is obj1 instance of g2? : \" + str(isinstance(obj1, g2)))\n",
        " \n",
        " \n",
        "# check inheritance case\n",
        "# return true\n",
        "print(\"Is obj2 instance of g1? : \" + str(isinstance(obj2, g1)))"
      ],
      "metadata": {
        "colab": {
          "base_uri": "https://localhost:8080/"
        },
        "id": "JWPAWWJGOASq",
        "outputId": "20f8af6f-6d40-4b2b-a7ce-3559539706c8"
      },
      "execution_count": null,
      "outputs": [
        {
          "output_type": "stream",
          "name": "stdout",
          "text": [
            "Is obj1 instance of g1? : True\n",
            "Is obj2 instance of g2? : True\n",
            "Is obj1 instance of g2? : False\n",
            "Is obj2 instance of g1? : True\n"
          ]
        }
      ]
    },
    {
      "cell_type": "markdown",
      "source": [
        "**issubclass(): returns true if 1st argument class is a subclass of 2nd argument class, otherwise false**"
      ],
      "metadata": {
        "id": "76ReGU3DPjt2"
      }
    },
    {
      "cell_type": "code",
      "source": [
        "class myAge:\n",
        "  age = 36\n",
        "\n",
        "class myObj(myAge):\n",
        "  name = \"John\"\n",
        "  age = myAge\n",
        "\n",
        "class myFamily(myObj):\n",
        "  father=\"Jeson\"\n",
        "  mother=\"Jenny\"\n",
        "\n",
        "class myfriends:\n",
        "  f1=\"Shashank\"\n",
        "\n",
        "print(issubclass(myObj, myAge))\n",
        "print(issubclass(myFamily, myObj))\n",
        "print(issubclass(myFamily, myAge))\n",
        "print(issubclass(myAge, myFamily))\n",
        "print(issubclass(myObj, myFamily))\n",
        "print(issubclass(myfriends, myAge))"
      ],
      "metadata": {
        "colab": {
          "base_uri": "https://localhost:8080/"
        },
        "id": "Vgx8SHq-PiFj",
        "outputId": "ce1dbb7b-09a9-455f-e558-a6693fd59503"
      },
      "execution_count": null,
      "outputs": [
        {
          "output_type": "stream",
          "name": "stdout",
          "text": [
            "True\n",
            "True\n",
            "True\n",
            "False\n",
            "False\n",
            "False\n"
          ]
        }
      ]
    }
  ],
  "metadata": {
    "kernelspec": {
      "display_name": "Python 3",
      "language": "python",
      "name": "python3"
    },
    "language_info": {
      "codemirror_mode": {
        "name": "ipython",
        "version": 3
      },
      "file_extension": ".py",
      "mimetype": "text/x-python",
      "name": "python",
      "nbconvert_exporter": "python",
      "pygments_lexer": "ipython3",
      "version": "3.7.6"
    },
    "toc": {
      "base_numbering": 1,
      "nav_menu": {},
      "number_sections": false,
      "sideBar": true,
      "skip_h1_title": false,
      "title_cell": "Table of Contents",
      "title_sidebar": "Contents",
      "toc_cell": false,
      "toc_position": {},
      "toc_section_display": true,
      "toc_window_display": true
    },
    "varInspector": {
      "cols": {
        "lenName": 16,
        "lenType": 16,
        "lenVar": 40
      },
      "kernels_config": {
        "python": {
          "delete_cmd_postfix": "",
          "delete_cmd_prefix": "del ",
          "library": "var_list.py",
          "varRefreshCmd": "print(var_dic_list())"
        },
        "r": {
          "delete_cmd_postfix": ") ",
          "delete_cmd_prefix": "rm(",
          "library": "var_list.r",
          "varRefreshCmd": "cat(var_dic_list()) "
        }
      },
      "types_to_exclude": [
        "module",
        "function",
        "builtin_function_or_method",
        "instance",
        "_Feature"
      ],
      "window_display": false
    },
    "colab": {
      "provenance": [],
      "include_colab_link": true
    }
  },
  "nbformat": 4,
  "nbformat_minor": 0
}