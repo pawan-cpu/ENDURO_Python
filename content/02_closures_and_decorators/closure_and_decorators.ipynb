{
  "nbformat": 4,
  "nbformat_minor": 0,
  "metadata": {
    "colab": {
      "name": "closure_and_decorators.ipynb",
      "provenance": []
    },
    "kernelspec": {
      "display_name": "Python 3",
      "language": "python",
      "name": "python3"
    },
    "language_info": {
      "codemirror_mode": {
        "name": "ipython",
        "version": 3
      },
      "file_extension": ".py",
      "mimetype": "text/x-python",
      "name": "python",
      "nbconvert_exporter": "python",
      "pygments_lexer": "ipython3",
      "version": "3.7.3"
    }
  },
  "cells": [
    {
      "cell_type": "markdown",
      "metadata": {
        "id": "H6hh1CeXFZ7f"
      },
      "source": [
        "\n",
        "<a href=\"https://colab.research.google.com/github/aviadr1/learn-advanced-python/blob/master/content/02_closures_and_decorators/closure_and_decorators.ipynb\" target=\"_blank\">\n",
        "<img src=\"https://colab.research.google.com/assets/colab-badge.svg\" \n",
        "     title=\"Open this file in Google Colab\" alt=\"Colab\"/>\n",
        "</a>\n"
      ]
    },
    {
      "cell_type": "markdown",
      "metadata": {
        "id": "o8IFfS_rFZ7h"
      },
      "source": [
        "# Closures and decorators\n",
        "\n",
        "In this lesson, we will learn what closures are, \n",
        "and see two uses of closures:\n",
        "1. replacing trivial do_something classes with closures\n",
        "2. decorators\n",
        "\n",
        "decorators will take the bulk of time in this lesson\n",
        "\n",
        "## Closures\n",
        "Consider the example below, where a function defines an inner function and returns it:"
      ]
    },
    {
      "cell_type": "code",
      "metadata": {
        "id": "3dP2M3SIYMWt",
        "colab": {
          "base_uri": "https://localhost:8080/",
          "height": 34
        },
        "outputId": "e4a4c2f0-5ffc-4d1a-bb2e-bbfc76f785a4"
      },
      "source": [
        "class Printer:\n",
        "    def __init__(self, message):\n",
        "        self.message = message\n",
        "\n",
        "    def do_it(self):\n",
        "        print(self.message)\n",
        "\n",
        "print_hello = Printer('hello')\n",
        "print_hello.do_it()  "
      ],
      "execution_count": null,
      "outputs": [
        {
          "output_type": "stream",
          "text": [
            "hello\n"
          ],
          "name": "stdout"
        }
      ]
    },
    {
      "cell_type": "code",
      "metadata": {
        "id": "z8Rq2TM8FZ7i",
        "outputId": "a6b5972c-2bb9-4df2-c2a6-8eddf5a16048",
        "colab": {
          "base_uri": "https://localhost:8080/",
          "height": 70
        }
      },
      "source": [
        "# make_printer() is a function that creates functions!\n",
        "def make_printer(message):\n",
        "    \n",
        "    def nested_printer_func(): # this creates a new function object\n",
        "        # use the message parameter to the make_printer() printer\n",
        "        print(message)\n",
        "    \n",
        "    # return the nested function object\n",
        "    return nested_printer_func\n",
        "\n",
        "# lets create a function that prints 'hello' when called\n",
        "print_hello = make_printer('hello')\n",
        "print_hello()\n",
        "\n",
        "# lets create a function that prints 'world' when called\n",
        "print_world = make_printer('world')\n",
        "print_world()\n",
        "\n",
        "# notice that these are not the same object, they are not the same function\n",
        "print('are these the same function?', print_world == print_hello)"
      ],
      "execution_count": null,
      "outputs": [
        {
          "output_type": "stream",
          "text": [
            "hello\n",
            "world\n",
            "are these the same function? False\n"
          ],
          "name": "stdout"
        }
      ]
    },
    {
      "cell_type": "code",
      "metadata": {
        "id": "zEVXoU0aXYaK",
        "colab": {
          "base_uri": "https://localhost:8080/",
          "height": 34
        },
        "outputId": "4bbd556a-f820-4fd5-957c-21b2114b6b86"
      },
      "source": [
        "print_hello"
      ],
      "execution_count": null,
      "outputs": [
        {
          "output_type": "execute_result",
          "data": {
            "text/plain": [
              "<function __main__.make_printer.<locals>.nested_printer_func>"
            ]
          },
          "metadata": {
            "tags": []
          },
          "execution_count": 2
        }
      ]
    },
    {
      "cell_type": "markdown",
      "metadata": {
        "id": "o89yey2LFZ7m"
      },
      "source": [
        "### What's happening here?\n",
        "The `make_printer()` function was called with the string \"hello\" and the returned function was bound to the name print_hello. On calling print_hello(), the message was still remembered although we had already finished executing the `make_printer()` function.\n",
        "\n",
        "This technique by which some data (\"hello\") gets attached to the code is called closure in Python.\n",
        "\n",
        "### When do we have a closure?\n",
        "As seen from the above example, we have a closure in Python when a nested function references a value in its enclosing scope.\n",
        "\n",
        "The criteria that must be met to create closure in Python are summarized in the following points.\n",
        "\n",
        "* We must have a nested function (function inside a function).\n",
        "* The nested function must refer to a value defined in the enclosing function.\n",
        "* The enclosing function must return the nested function.\n",
        "\n",
        "### When are closures useful?\n",
        "\n",
        "There's two main cases:\n",
        "1. trivial *do_something* classes <br>\n",
        "   If you see an object-oriented solution that creates a class with just one method, or one method and a constructor, it can easily be replaced with functions or functions created as coloures. often with these classes, the function will be called something opaque like update(), do_it(), action() etc\n",
        "\n",
        "2. *decorators* <br>\n",
        "   if we want to take an exising function and add functionality to that function without changing the original function's code by 'wrapping' or 'decorating' that function, closures are a good solution \n",
        "   \n",
        "we will take a long look at decorators at the end of this lesson, so for now, lets focus on do_something classes"
      ]
    },
    {
      "cell_type": "markdown",
      "metadata": {
        "id": "V9hqZZ-ITq2o"
      },
      "source": [
        "# Your Turn\n",
        "\n",
        "write a function called `constant_function_factory()` that creates contant function.\n",
        "a constant function is a function that takes no parameters and always returns the same value\n",
        "> hint: Use closures\n",
        "\n",
        "it should work like so\n",
        "```python\n",
        "f10 = constant_function_factory(10)\n",
        "print(f10()) # 10\n",
        "\n",
        "f2 = constant_function_factory(2)\n",
        "print(f2()) # 2\n",
        "```\n",
        "\n"
      ]
    },
    {
      "cell_type": "code",
      "metadata": {
        "id": "-h16Ki-1UflQ"
      },
      "source": [
        "### your answer:\n"
      ],
      "execution_count": null,
      "outputs": []
    },
    {
      "cell_type": "code",
      "metadata": {
        "id": "y037s7V9UjUj",
        "colab": {
          "base_uri": "https://localhost:8080/",
          "height": 238
        },
        "outputId": "1175956c-d3ec-4213-cf25-808fb3bf2bb0"
      },
      "source": [
        "# test your code\n",
        "f10 = constant_function_factory(10)\n",
        "print(f10()) # 10\n",
        " \n",
        "f2 = constant_function_factory(2)\n",
        "print(f2()) # 2"
      ],
      "execution_count": null,
      "outputs": [
        {
          "output_type": "error",
          "ename": "NameError",
          "evalue": "ignored",
          "traceback": [
            "\u001b[0;31m---------------------------------------------------------------------------\u001b[0m",
            "\u001b[0;31mNameError\u001b[0m                                 Traceback (most recent call last)",
            "\u001b[0;32m<ipython-input-4-3d7ba74c8048>\u001b[0m in \u001b[0;36m<module>\u001b[0;34m()\u001b[0m\n\u001b[0;32m----> 1\u001b[0;31m \u001b[0mf10\u001b[0m \u001b[0;34m=\u001b[0m \u001b[0mconstant_function_factory\u001b[0m\u001b[0;34m(\u001b[0m\u001b[0;36m10\u001b[0m\u001b[0;34m)\u001b[0m\u001b[0;34m\u001b[0m\u001b[0;34m\u001b[0m\u001b[0m\n\u001b[0m\u001b[1;32m      2\u001b[0m \u001b[0mprint\u001b[0m\u001b[0;34m(\u001b[0m\u001b[0mf10\u001b[0m\u001b[0;34m(\u001b[0m\u001b[0;34m)\u001b[0m\u001b[0;34m)\u001b[0m \u001b[0;31m# 10\u001b[0m\u001b[0;34m\u001b[0m\u001b[0;34m\u001b[0m\u001b[0m\n\u001b[1;32m      3\u001b[0m \u001b[0;34m\u001b[0m\u001b[0m\n\u001b[1;32m      4\u001b[0m \u001b[0mf2\u001b[0m \u001b[0;34m=\u001b[0m \u001b[0mconstant_function_factory\u001b[0m\u001b[0;34m(\u001b[0m\u001b[0;36m2\u001b[0m\u001b[0;34m)\u001b[0m\u001b[0;34m\u001b[0m\u001b[0;34m\u001b[0m\u001b[0m\n\u001b[1;32m      5\u001b[0m \u001b[0mprint\u001b[0m\u001b[0;34m(\u001b[0m\u001b[0mf2\u001b[0m\u001b[0;34m(\u001b[0m\u001b[0;34m)\u001b[0m\u001b[0;34m)\u001b[0m \u001b[0;31m# 2\u001b[0m\u001b[0;34m\u001b[0m\u001b[0;34m\u001b[0m\u001b[0m\n",
            "\u001b[0;31mNameError\u001b[0m: name 'constant_function_factory' is not defined"
          ]
        }
      ]
    },
    {
      "cell_type": "markdown",
      "metadata": {
        "id": "8kkgNkfeFZ7m"
      },
      "source": [
        "### replacing do_something classes with closures "
      ]
    },
    {
      "cell_type": "code",
      "metadata": {
        "id": "VyOXh--ZFZ7n",
        "outputId": "f636f266-7d09-4c46-ce3b-de055be7aad5"
      },
      "source": [
        "\"\"\"\n",
        "Here is a classic example of a do_something class interface.\n",
        "class Event registers event handlers objects that must have an event_handler function\n",
        "\"\"\"\n",
        "class PrintEventHandler:\n",
        "    def __init__(self, message):\n",
        "        self.__message = message\n",
        "        \n",
        "    def handle_event(self, event, *args):\n",
        "        print(self.__message, *args)\n",
        "\n",
        "class Event :\n",
        "    \"\"\"\n",
        "    Event class allows registering event handler objects, which must have a handle_event() function\n",
        "    \"\"\"\n",
        "    def __init__(self):\n",
        "        self.__handlers = []\n",
        "        \n",
        "    def notify(self, *args):\n",
        "        for handler in self.__handlers:\n",
        "            # notice \n",
        "            handler.handle_event(self, *args)\n",
        "            \n",
        "    def add_event_handler(self, handler_object):\n",
        "        self.__handlers.append(handler_object)\n",
        "        \n",
        "e = Event()\n",
        "e.add_event_handler(PrintEventHandler('well I didnt expect'))\n",
        "e.add_event_handler(PrintEventHandler('nobody expects'))\n",
        "e.notify('the spanish inquisition')\n",
        "\n",
        "        "
      ],
      "execution_count": null,
      "outputs": [
        {
          "output_type": "stream",
          "text": [
            "well I didnt expect the spanish inquisition\n",
            "nobody expects the spanish inquisition\n"
          ],
          "name": "stdout"
        }
      ]
    },
    {
      "cell_type": "code",
      "metadata": {
        "id": "iv7jh5_fFZ7p",
        "outputId": "fdd9d583-58ca-4a1f-b1d1-4dc0321a36ef"
      },
      "source": [
        "\"\"\"\n",
        "Simplified version of above example, where the class PrintEventHandler is not needed\n",
        "\"\"\"\n",
        "def make_print_handler(message):\n",
        "    def handler(event, *args): \n",
        "        print(message, *args)\n",
        "        \n",
        "    return handler\n",
        "\n",
        "class SimplerEvent :\n",
        "    \"\"\"\n",
        "    Event class allows registering event handling *functions*\n",
        "    \"\"\"\n",
        "    def __init__(self):\n",
        "        self.__handlers = []\n",
        "        \n",
        "    def notify(self, *args):\n",
        "        for handler in self.__handlers: \n",
        "            handler(self, *args) # handler now is simply a callable function\n",
        "            \n",
        "    def add_event_handler(self, handler):\n",
        "        self.__handlers.append(handler)\n",
        "        \n",
        "e = SimplerEvent()\n",
        "e.add_event_handler(make_print_handler('well I didnt expect'))\n",
        "e.add_event_handler(make_print_handler('nobody expects'))\n",
        "e.notify('the spanish inquisition')\n"
      ],
      "execution_count": null,
      "outputs": [
        {
          "output_type": "stream",
          "text": [
            "well I didnt expect the spanish inquisition\n",
            "nobody expects the spanish inquisition\n"
          ],
          "name": "stdout"
        }
      ]
    },
    {
      "cell_type": "markdown",
      "metadata": {
        "id": "JiMekBKgFZ7t"
      },
      "source": [
        "## Decorators\n",
        "Decorators are a simple pattern to add functionality to an existing function, without changing the code for that function.\n",
        "\n",
        "here is an extremely simplified example:\n",
        "\n",
        "[1]: https://realpython.com/primer-on-python-decorators/#simple-decorators"
      ]
    },
    {
      "cell_type": "code",
      "metadata": {
        "id": "aBK7Qct-FZ7u",
        "outputId": "834e565e-f45a-44b8-c4dc-779718acad3f"
      },
      "source": [
        "def my_decorator(func):\n",
        "    def wrapper():\n",
        "        print(\"Something is happening before the function is called.\")\n",
        "        func()\n",
        "        print(\"Something is happening after the function is called.\")\n",
        "    return wrapper\n",
        "\n",
        "def say_whee():\n",
        "    print(\"Whee!\")\n",
        "\n",
        "# decorate the say_whee function \n",
        "say_whee = my_decorator(say_whee)\n",
        "\n",
        "# use it\n",
        "say_whee()"
      ],
      "execution_count": null,
      "outputs": [
        {
          "output_type": "stream",
          "text": [
            "Something is happening before the function is called.\n",
            "Whee!\n",
            "Something is happening after the function is called.\n"
          ],
          "name": "stdout"
        }
      ]
    },
    {
      "cell_type": "markdown",
      "metadata": {
        "id": "twhWNvGSGKPa"
      },
      "source": [
        "To understand what’s going on here, look back at the previous examples. \n",
        "We are literally just applying everything you have learned so far.\n",
        "\n",
        "The so-called decoration happens at the following line:\n",
        "\n",
        "`say_whee = my_decorator(say_whee)`\n",
        "In effect, the name say_whee now points to the `wrapper()` inner function. \n",
        "Remember that you return wrapper as a function when you call `my_decorator(say_whee)`:"
      ]
    },
    {
      "cell_type": "code",
      "metadata": {
        "id": "s1rlm0ECGJcX",
        "outputId": "4e07bde3-1729-42e3-ca73-6060803d6732",
        "colab": {
          "base_uri": "https://localhost:8080/",
          "height": 165
        }
      },
      "source": [
        "print(say_whee)"
      ],
      "execution_count": null,
      "outputs": [
        {
          "output_type": "stream",
          "text": [
            "<function my_decorator.<locals>.wrapper at 0x05D4D348>\n"
          ],
          "name": "stdout"
        }
      ]
    },
    {
      "cell_type": "markdown",
      "metadata": {
        "id": "u2zK1Kw-GXk4"
      },
      "source": [
        "However, `wrapper()` has a reference to the original `say_whee()` as func, and calls that function between the two calls to `print()`.\n",
        "\n",
        "Put simply: decorators wrap a function, modifying its behavior."
      ]
    },
    {
      "cell_type": "markdown",
      "metadata": {
        "id": "rkdQmSVmGdru"
      },
      "source": [
        "Before moving on, let’s have a look at a second example. \n",
        "Because wrapper() is a regular Python function, \n",
        "the way a decorator modifies a function can change dynamically. \n",
        "So as not to disturb your neighbors, the following example will only run the decorated code during the day:"
      ]
    },
    {
      "cell_type": "code",
      "metadata": {
        "id": "Hd3ak_5LFZ7z"
      },
      "source": [
        "from datetime import datetime\n",
        "override_hour =  None\n",
        "\n",
        "def not_during_the_night(func):\n",
        "    def wrapper():\n",
        "        hour = override_hour or datetime.now().hour\n",
        "        if 7 <= hour < 22:\n",
        "            func()\n",
        "        else:\n",
        "            pass  # Hush, the neighbors are asleep\n",
        "    return wrapper\n",
        "\n",
        "def say_whee():\n",
        "    print(\"Whee!\")\n",
        "\n",
        "say_whee = not_during_the_night(say_whee)\n",
        "\n",
        "# If you try to call say_whee() after bedtime, nothing will happen:\n",
        "override_hour = 23\n",
        "say_whee()\n"
      ],
      "execution_count": null,
      "outputs": []
    },
    {
      "cell_type": "markdown",
      "metadata": {
        "id": "2DqCpFEtFZ71"
      },
      "source": [
        "### Syntactic Sugar!\n",
        "The way we decorated `say_whee()` above is a little clunky. \n",
        "First of all, we end up typing the name say_whee three times. \n",
        "\n",
        "In addition, the decoration gets a bit hidden away below the definition of the function.\n",
        "\n",
        "Instead, Python allows us to use decorators in a simpler way with the `@` symbol, sometimes called the “pie” syntax. \n",
        "\n",
        "The following example does the exact same thing as the first decorator example:"
      ]
    },
    {
      "cell_type": "code",
      "metadata": {
        "id": "eFvrODARFZ71"
      },
      "source": [
        "def my_decorator(func):\n",
        "    def wrapper():\n",
        "        print(\"Something is happening before the function is called.\")\n",
        "        func()\n",
        "        print(\"Something is happening after the function is called.\")\n",
        "    return wrapper\n",
        "\n",
        "@my_decorator\n",
        "def say_whee():\n",
        "    print(\"Whee!\")\n",
        "    \n",
        "# So, @my_decorator is just an easier way of saying \n",
        "# say_whee = my_decorator(say_whee). \n",
        "# It’s how you apply a decorator to a function."
      ],
      "execution_count": null,
      "outputs": []
    },
    {
      "cell_type": "markdown",
      "metadata": {
        "id": "SNOX-wAkFZ74"
      },
      "source": [
        "### Reusing Decorators\n",
        "Recall that a decorator is just a regular Python function. \n",
        "All the usual tools for easy reusability are available: such as placing the decorator in a module and importing it.\n",
        "\n",
        "obviously, There's a bunch of decorators in the standard library, which we will go through.\n",
        "\n",
        "lets start with defining a more useful decorator:"
      ]
    },
    {
      "cell_type": "code",
      "metadata": {
        "id": "r-F6lcTuFZ74"
      },
      "source": [
        "# imagine you place this in a file called my_decorators.py\n",
        "\n",
        "def do_twice(func):\n",
        "    def wrapper_do_twice():\n",
        "        func()\n",
        "        func()\n",
        "    return wrapper_do_twice"
      ],
      "execution_count": null,
      "outputs": []
    },
    {
      "cell_type": "code",
      "metadata": {
        "id": "NbZW08lsFZ77",
        "outputId": "812ea28b-6be4-46cf-e818-e5e7e0ab3c1b"
      },
      "source": [
        "# We can now use this new decorator wherever we want in our code by importing it\n",
        "# from decorators import do_twice\n",
        "\n",
        "@do_twice\n",
        "def say_whee():\n",
        "    print(\"Whee!\")\n",
        "    \n",
        "say_whee()"
      ],
      "execution_count": null,
      "outputs": [
        {
          "output_type": "stream",
          "text": [
            "Whee!\n",
            "Whee!\n"
          ],
          "name": "stdout"
        }
      ]
    },
    {
      "cell_type": "markdown",
      "metadata": {
        "id": "GZUNXlIkFZ79"
      },
      "source": [
        "### Decorating Functions With Arguments\n",
        "Say that you have a function that accepts some arguments. Can you still decorate it? Let’s try:\n",
        "\n",
        "```\n",
        "@do_twice\n",
        "def greet(name):\n",
        "    print(f\"Hello {name}\")\n",
        "\n",
        "greet('bob')\n",
        "```\n",
        "```\n",
        "---------------------------------------------------------------------------\n",
        "TypeError                                 Traceback (most recent call last)\n",
        "<ipython-input-10-250b00126245> in <module>\n",
        "      5     print(f\"Hello {name}\")\n",
        "      6 \n",
        "----> 7 greet('bob')\n",
        "      8 \n",
        "      9 # The problem is that the inner function wrapper_do_twice() does not take any arguments,\n",
        "\n",
        "TypeError: wrapper_do_twice() takes 0 positional arguments but 1 was given\n",
        "```\n",
        "\n",
        "The problem is that the inner function wrapper_do_twice() does not take any arguments, \n",
        "but name=\"World\" was passed to it. \n",
        "\n",
        "You could fix this by letting wrapper_do_twice() accept one argument, \n",
        "but then it would not work for the say_whee() function you created earlier."
      ]
    },
    {
      "cell_type": "code",
      "metadata": {
        "id": "V6e8EcHTFZ7-"
      },
      "source": [
        "# The solution is to use *args and **kwargs in the inner wrapper function. \n",
        "# Then it will accept an arbitrary number of positional and keyword arguments. \n",
        "\n",
        "def do_twice(func):\n",
        "    def wrapper_do_twice(*args, **kwargs):\n",
        "        func(*args, **kwargs)\n",
        "        func(*args, **kwargs)\n",
        "    return wrapper_do_twice\n",
        "\n"
      ],
      "execution_count": null,
      "outputs": []
    },
    {
      "cell_type": "code",
      "metadata": {
        "id": "IrPA5WcHFZ8A",
        "outputId": "1195e5dc-6563-4b91-e09b-a59aa4725fc2"
      },
      "source": [
        "# The wrapper_do_twice() inner function now accepts any number of arguments \n",
        "# and passes them on to the function it decorates. \n",
        "\n",
        "# Now both your say_whee() and greet() examples works:\n",
        "    \n",
        "@do_twice\n",
        "def greet(name):\n",
        "    print(f\"Hello {name}\")\n",
        "    \n",
        "@do_twice\n",
        "def say_whee():\n",
        "    print(\"Whee!\")\n",
        "\n",
        "greet('bob')\n",
        "say_whee()"
      ],
      "execution_count": null,
      "outputs": [
        {
          "output_type": "stream",
          "text": [
            "Hello bob\n",
            "Hello bob\n",
            "Whee!\n",
            "Whee!\n"
          ],
          "name": "stdout"
        }
      ]
    },
    {
      "cell_type": "markdown",
      "metadata": {
        "id": "SZI8s1HsFZ8D"
      },
      "source": [
        "### Returning Values From Decorated Functions\n",
        "What happens to the return value of decorated functions? Well, that’s up to the decorator to decide. \n",
        "Let’s say you decorate a simple function as follows:"
      ]
    },
    {
      "cell_type": "code",
      "metadata": {
        "id": "zOVCaNVqFZ8E",
        "outputId": "080d2d0d-31e0-491d-873c-fd7d1817ab6c"
      },
      "source": [
        "@do_twice\n",
        "def return_greeting(name):\n",
        "    print(\"Creating greeting\")\n",
        "    return f\"Hi {name}\"\n",
        "\n",
        "hi_bob = return_greeting(\"bob\")\n",
        "# Creating greeting\n",
        "# Creating greeting\n",
        "\n",
        "print(hi_bob)\n",
        "# None\n",
        "\n",
        "\n",
        "# Oops, our decorator ate the return value from the function.\n",
        "\n",
        "# Because the do_twice_wrapper() doesn’t explicitly return a value, \n",
        "# the call return_greeting(\"bob\") ended up returning None."
      ],
      "execution_count": null,
      "outputs": [
        {
          "output_type": "stream",
          "text": [
            "Creating greeting\n",
            "Creating greeting\n",
            "None\n"
          ],
          "name": "stdout"
        }
      ]
    },
    {
      "cell_type": "code",
      "metadata": {
        "id": "vYvI-Hj3FZ8G",
        "outputId": "64f802ec-a340-44c0-f87e-6dac2cc0231f"
      },
      "source": [
        "# To fix this, we need to make sure the wrapper function returns the return value of the decorated function. \n",
        "\n",
        "def do_twice(func):\n",
        "    def wrapper_do_twice(*args, **kwargs):\n",
        "        func(*args, **kwargs)\n",
        "        return func(*args, **kwargs)\n",
        "    return wrapper_do_twice\n",
        "\n",
        "@do_twice\n",
        "def return_greeting(name):\n",
        "    print(\"Creating greeting\")\n",
        "    return f\"Hi {name}\"\n",
        "\n",
        "# The return value from the last execution of the function is returned:\n",
        "return_greeting(\"Adam\")\n",
        "# Creating greeting\n",
        "# Creating greeting\n",
        "# 'Hi Adam'"
      ],
      "execution_count": null,
      "outputs": [
        {
          "output_type": "stream",
          "text": [
            "Creating greeting\n",
            "Creating greeting\n"
          ],
          "name": "stdout"
        },
        {
          "output_type": "execute_result",
          "data": {
            "text/plain": [
              "'Hi Adam'"
            ]
          },
          "metadata": {
            "tags": []
          },
          "execution_count": 13
        }
      ]
    },
    {
      "cell_type": "markdown",
      "metadata": {
        "id": "PcnXTo_aFZ8I"
      },
      "source": [
        "### Who Are You, Really?\n",
        "A great convenience when working with Python, especially in the interactive shell, is its powerful introspection ability. Introspection is the ability of an object to know about its own attributes at runtime. For instance, a function knows its own name and documentation:"
      ]
    },
    {
      "cell_type": "code",
      "metadata": {
        "id": "DMQzxbCoFZ8J",
        "outputId": "f03aaf50-0914-4a1f-94d5-5d2ff37b2a0d"
      },
      "source": [
        "# a function knows its own name and documentation:\n",
        "import math\n",
        "print(math.sin) \n",
        "# <built-in function len>\n",
        "\n",
        "print(math.sin.__name__)\n",
        "# 'sin'\n",
        "\n",
        "help(math.sin)\n",
        "# Help on built-in function sin in module math:\n",
        "# sin(x, /)\n",
        "#     Return the sine of x (measured in radians).\n",
        "\n",
        "#\n",
        "# The introspection works for functions you define yourself as well:\n",
        "#\n",
        "\n",
        "print(say_whee)\n",
        "# <function do_twice.<locals>.wrapper_do_twice at 0x7f43700e52f0>\n",
        "\n",
        "print(say_whee.__name__)\n",
        "# 'wrapper_do_twice'\n",
        "\n",
        "help(say_whee)\n",
        "# Help on function wrapper_do_twice in module decorators:\n",
        "#  wrapper_do_twice()\n",
        "\n",
        "\n",
        "#\n",
        "# However, after being decorated, say_whee() has gotten very confused about its identity. \n",
        "# It now reports being the wrapper_do_twice() inner function inside the do_twice() decorator. \n",
        "# Although technically true, this is not very useful information.\n",
        "#\n"
      ],
      "execution_count": null,
      "outputs": [
        {
          "output_type": "stream",
          "text": [
            "<built-in function sin>\n",
            "sin\n",
            "Help on built-in function sin in module math:\n",
            "\n",
            "sin(x, /)\n",
            "    Return the sine of x (measured in radians).\n",
            "\n",
            "<function do_twice.<locals>.wrapper_do_twice at 0x05D4DFA8>\n",
            "wrapper_do_twice\n",
            "Help on function wrapper_do_twice in module __main__:\n",
            "\n",
            "wrapper_do_twice(*args, **kwargs)\n",
            "\n"
          ],
          "name": "stdout"
        }
      ]
    },
    {
      "cell_type": "code",
      "metadata": {
        "id": "Y41UlT1UFZ8M",
        "outputId": "7a9310f5-ee9e-48b4-c958-626cbe7328f0"
      },
      "source": [
        "# To fix this, decorators should use the @functools.wraps decorator, \n",
        "# which will preserve information about the original function. \n",
        "\n",
        "import functools\n",
        "\n",
        "def do_twice(func):\n",
        "    @functools.wraps(func)\n",
        "    def wrapper_do_twice(*args, **kwargs):\n",
        "        func(*args, **kwargs)\n",
        "        return func(*args, **kwargs)\n",
        "    return wrapper_do_twice\n",
        "\n",
        "# We do not need to change anything about the decorated say_whee() function:\n",
        "@do_twice\n",
        "def say_whee():\n",
        "    print(\"Whee!\")\n",
        "\n",
        "print(say_whee)\n",
        "# <function say_whee at 0x7ff79a60f2f0>\n",
        "\n",
        "print(say_whee.__name__)\n",
        "#'say_whee'\n",
        "\n",
        "help(say_whee)\n",
        "# Help on function say_whee in module __main__:\n",
        "\n",
        "say_whee()\n",
        "\n",
        "#\n",
        "# Much better! Now say_whee() is still itself after decoration.\n",
        "#"
      ],
      "execution_count": null,
      "outputs": [
        {
          "output_type": "stream",
          "text": [
            "<function say_whee at 0x05F9BB28>\n",
            "say_whee\n",
            "Help on function say_whee in module __main__:\n",
            "\n",
            "say_whee()\n",
            "\n",
            "Whee!\n",
            "Whee!\n"
          ],
          "name": "stdout"
        }
      ]
    },
    {
      "cell_type": "markdown",
      "metadata": {
        "id": "4p2MruULFZ8O"
      },
      "source": [
        "### A Few Real World Examples\n",
        "Let’s look at a few more useful examples of decorators. You’ll notice that they’ll mainly follow the same pattern that you’ve learned so far:\n",
        "\n",
        "```\n",
        "import functools\n",
        "\n",
        "def decorator(func):\n",
        "    @functools.wraps(func)\n",
        "    def wrapper_decorator(*args, **kwargs):\n",
        "        # Do something before\n",
        "        value = func(*args, **kwargs)\n",
        "        # Do something after\n",
        "        return value\n",
        "    return wrapper_decorator\n",
        "    \n",
        "```    \n",
        "This formula is a good boilerplate template for building more complex decorators."
      ]
    },
    {
      "cell_type": "markdown",
      "metadata": {
        "id": "A5nUjDEbFZ8P"
      },
      "source": [
        "#### Timing Functions\n",
        "Let’s start by creating a `@timer` decorator. It will measure the time a function takes to execute and print the duration to the console. Here’s the code:\n"
      ]
    },
    {
      "cell_type": "code",
      "metadata": {
        "id": "6q3fFBkNFZ8Q",
        "outputId": "7a175d18-4bf3-45a1-f676-c0a9776ca649"
      },
      "source": [
        "import functools\n",
        "import time\n",
        "\n",
        "def timer(func):\n",
        "    \"\"\"Print the runtime of the decorated function\"\"\"\n",
        "    @functools.wraps(func)\n",
        "    def wrapper_timer(*args, **kwargs):\n",
        "        start_time = time.perf_counter()    # 1\n",
        "        value = func(*args, **kwargs)\n",
        "        end_time = time.perf_counter()      # 2\n",
        "        run_time = end_time - start_time    # 3\n",
        "        print(f\"Finished {func.__name__!r} in {run_time:.4f} secs\")\n",
        "        return value\n",
        "    return wrapper_timer\n",
        "\n",
        "@timer\n",
        "def waste_some_time(num_times):\n",
        "    for _ in range(num_times):\n",
        "        sum([i**2 for i in range(10000)])\n",
        "        \n",
        "#\n",
        "# This decorator works by storing the time just before the function starts running (at the line marked # 1) \n",
        "# and just after the function finishes (at # 2). \n",
        "# The time the function takes is then the difference between the two (at # 3). \n",
        "# We use the time.perf_counter() function, which does a good job of measuring time intervals. \n",
        "# \n",
        "\n",
        "# Here are some examples of timings:\n",
        "waste_some_time(1)\n",
        "waste_some_time(999)"
      ],
      "execution_count": null,
      "outputs": [
        {
          "output_type": "stream",
          "text": [
            "Finished 'waste_some_time' in 0.0031 secs\n",
            "Finished 'waste_some_time' in 3.0549 secs\n"
          ],
          "name": "stdout"
        }
      ]
    },
    {
      "cell_type": "markdown",
      "metadata": {
        "id": "gJhnTGdMFZ8R"
      },
      "source": [
        "Run it yourself. Work through the code line by line. Make sure you understand how it works. Don’t worry if you don’t get it, though. Decorators are advanced beings. Try to sleep on it or make a drawing of the program flow.\n",
        "\n",
        "> Note: The @timer decorator is great if you just want to get an idea about the runtime of your functions. If you want to do more precise measurements of code, you should instead consider the timeit module in the standard library. It temporarily disables garbage collection and runs multiple trials to strip out noise from quick function calls."
      ]
    },
    {
      "cell_type": "markdown",
      "metadata": {
        "id": "vyzm8PXJFZ8S"
      },
      "source": [
        "#### Debugging Code\n",
        "The following @debug decorator will print the arguments a function is called with as well as its return value every time the function is called:"
      ]
    },
    {
      "cell_type": "code",
      "metadata": {
        "id": "E0oGYjntFZ8T"
      },
      "source": [
        "import functools\n",
        "\n",
        "def debug(func):\n",
        "    \"\"\"Print the function signature and return value\"\"\"\n",
        "    @functools.wraps(func)\n",
        "    def wrapper_debug(*args, **kwargs):\n",
        "        args_repr = [repr(a) for a in args]                      # 1\n",
        "        kwargs_repr = [f\"{k}={v!r}\" for k, v in kwargs.items()]  # 2\n",
        "        signature = \", \".join(args_repr + kwargs_repr)           # 3\n",
        "        print(f\"Calling {func.__name__}({signature})\")\n",
        "        \n",
        "        value = func(*args, **kwargs)\n",
        "        \n",
        "        print(f\"{func.__name__!r} returned {value!r}\")           # 4\n",
        "        return value\n",
        "    return wrapper_debug"
      ],
      "execution_count": null,
      "outputs": []
    },
    {
      "cell_type": "markdown",
      "metadata": {
        "id": "e3I6KnYKFZ8X"
      },
      "source": [
        "The signature is created by joining the string representations of all the arguments. The numbers in the following list correspond to the numbered comments in the code:\n",
        "\n",
        "1. Create a list of the positional arguments. Use repr() to get a nice string representing each argument.\n",
        "1. Create a list of the keyword arguments. The f-string formats each argument as key=value where the !r specifier means that repr() is used to represent the value.\n",
        "1. The lists of positional and keyword arguments is joined together to one signature string with each argument separated by a comma.\n",
        "1. The return value is printed after the function is executed.\n",
        "Let’s see how the decorator works in practice by applying it to a simple function with one position and one keyword argument:"
      ]
    },
    {
      "cell_type": "code",
      "metadata": {
        "id": "0k9UhgWHFZ8X",
        "outputId": "d281adf0-0945-4bcb-fc1b-efac02be5022"
      },
      "source": [
        "@debug\n",
        "def make_greeting(name, age=None):\n",
        "    if age is None:\n",
        "        return f\"Howdy {name}!\"\n",
        "    else:\n",
        "        return f\"Whoa {name}! {age} already, you are growing up!\"\n",
        "    \n",
        "make_greeting(\"Benjamin\")\n",
        "# Calling make_greeting('Benjamin')\n",
        "# 'make_greeting' returned 'Howdy Benjamin!'\n",
        "# 'Howdy Benjamin!'\n",
        "\n",
        "make_greeting(\"Richard\", age=112)\n",
        "# Calling make_greeting('Richard', age=112)\n",
        "# 'make_greeting' returned 'Whoa Richard! 112 already, you are growing up!'\n",
        "# 'Whoa Richard! 112 already, you are growing up!'\n",
        "\n",
        "make_greeting(name=\"Dorrisile\", age=116)\n",
        "# Calling make_greeting(name='Dorrisile', age=116)\n",
        "# 'make_greeting' returned 'Whoa Dorrisile! 116 already, you are growing up!'\n",
        "# 'Whoa Dorrisile! 116 already, you are growing up!'"
      ],
      "execution_count": null,
      "outputs": [
        {
          "output_type": "stream",
          "text": [
            "Calling make_greeting('Benjamin')\n",
            "'make_greeting' returned 'Howdy Benjamin!'\n",
            "Calling make_greeting('Richard', age=112)\n",
            "'make_greeting' returned 'Whoa Richard! 112 already, you are growing up!'\n",
            "Calling make_greeting(name='Dorrisile', age=116)\n",
            "'make_greeting' returned 'Whoa Dorrisile! 116 already, you are growing up!'\n"
          ],
          "name": "stdout"
        },
        {
          "output_type": "execute_result",
          "data": {
            "text/plain": [
              "'Whoa Dorrisile! 116 already, you are growing up!'"
            ]
          },
          "metadata": {
            "tags": []
          },
          "execution_count": 18
        }
      ]
    },
    {
      "cell_type": "markdown",
      "metadata": {
        "id": "xwZLOfbyFZ8a"
      },
      "source": [
        "The above example might not seem immediately useful since the @debug decorator just repeats what you just wrote. It’s more powerful when applied to small convenience functions that you don’t call directly yourself.\n",
        "\n",
        "\n",
        "The following example calculates an approximation to the mathematical constant e:"
      ]
    },
    {
      "cell_type": "code",
      "metadata": {
        "id": "sWO6u6MWFZ8a"
      },
      "source": [
        "import math\n",
        "\n",
        "# Apply a decorator to a standard library function\n",
        "math.factorial = debug(math.factorial)\n",
        "\n",
        "def approximate_e(terms=18):\n",
        "    return sum(1 / math.factorial(n) for n in range(terms))"
      ],
      "execution_count": null,
      "outputs": []
    },
    {
      "cell_type": "markdown",
      "metadata": {
        "id": "5Kij438bFZ8c"
      },
      "source": [
        "This example also shows how you can apply a decorator to a function that has already been defined. The approximation of e is based on the following series expansion: <br>\n",
        "$$ {\\rm e} = \\sum_{n=0}^{\\infty} \\frac{1}{n!} = \\frac{1}{0!} + \\frac{1}{1!} + \\frac{1}{2!} + \\frac{1}{3!} + \\ldots $$ <br>\n",
        "Series for calculating mathematical constant e\n",
        "\n",
        "When calling the approximate_e() function, you can see the @debug decorator at work:"
      ]
    },
    {
      "cell_type": "code",
      "metadata": {
        "id": "2UsgAMDpFZ8d",
        "outputId": "28355c93-83b1-40e8-f861-50322f2194f3"
      },
      "source": [
        "approximate_e(5)"
      ],
      "execution_count": null,
      "outputs": [
        {
          "output_type": "stream",
          "text": [
            "Calling factorial(0)\n",
            "'factorial' returned 1\n",
            "Calling factorial(1)\n",
            "'factorial' returned 1\n",
            "Calling factorial(2)\n",
            "'factorial' returned 2\n",
            "Calling factorial(3)\n",
            "'factorial' returned 6\n",
            "Calling factorial(4)\n",
            "'factorial' returned 24\n"
          ],
          "name": "stdout"
        },
        {
          "output_type": "execute_result",
          "data": {
            "text/plain": [
              "2.708333333333333"
            ]
          },
          "metadata": {
            "tags": []
          },
          "execution_count": 20
        }
      ]
    },
    {
      "cell_type": "markdown",
      "metadata": {
        "id": "ptp8AdUoFZ8g"
      },
      "source": [
        "#### Registering Plugins\n",
        "Decorators don’t have to wrap the function they’re decorating. They can also simply register that a function exists and return it unwrapped. This can be used, for instance, to create a light-weight plug-in architecture:"
      ]
    },
    {
      "cell_type": "code",
      "metadata": {
        "id": "mdi4u4dlFZ8g",
        "outputId": "55f040f1-d3e5-4b2e-a1c3-5d64e3d661b0"
      },
      "source": [
        "import random\n",
        "PLUGINS = dict()\n",
        "\n",
        "def register(func):\n",
        "    \"\"\"Register a function as a plug-in\"\"\"\n",
        "    PLUGINS[func.__name__] = func\n",
        "    return func\n",
        "\n",
        "@register\n",
        "def say_hello(name):\n",
        "    return f\"Hello {name}\"\n",
        "\n",
        "@register\n",
        "def be_awesome(name):\n",
        "    return f\"Yo {name}, together we are the awesomest!\"\n",
        "\n",
        "def randomly_greet(name):\n",
        "    greeter, greeter_func = random.choice(list(PLUGINS.items()))\n",
        "    print(f\"Using {greeter!r}\")\n",
        "    return greeter_func(name)\n",
        "\n",
        "# The @register decorator simply stores a reference to the decorated function in the global PLUGINS dict. \n",
        "# Note that you do not have to write an inner function or use @functools.wraps in this example \n",
        "# because you are returning the original function unmodified.\n",
        "\n",
        "# The randomly_greet() function randomly chooses one of the registered functions to use. \n",
        "# Note that the PLUGINS dictionary already contains references to each function object that is registered as a plugin:\n",
        "\n",
        "print(PLUGINS)\n",
        "# {'say_hello': <function say_hello at 0x7f768eae6730>,\n",
        "#  'be_awesome': <function be_awesome at 0x7f768eae67b8>}\n",
        "\n",
        "randomly_greet(\"Alice\")\n"
      ],
      "execution_count": null,
      "outputs": [
        {
          "output_type": "stream",
          "text": [
            "{'say_hello': <function say_hello at 0x05FADC00>, 'be_awesome': <function be_awesome at 0x05FADBB8>}\n",
            "Using 'say_hello'\n"
          ],
          "name": "stdout"
        },
        {
          "output_type": "execute_result",
          "data": {
            "text/plain": [
              "'Hello Alice'"
            ]
          },
          "metadata": {
            "tags": []
          },
          "execution_count": 21
        }
      ]
    },
    {
      "cell_type": "markdown",
      "metadata": {
        "id": "2HBpvrLNFZ8i"
      },
      "source": [
        "The main benefit of this simple plugin architecture is that you do not need to maintain a list of which plugins exist. That list is created when the plugins register themselves. This makes it trivial to add a new plugin: just define the function and decorate it with @register.\n",
        "\n",
        "If you are familiar with globals() in Python, you might see some similarities to how the plugin architecture works. globals() gives access to all global variables in the current scope, including your plugins:\n",
        "\n",
        "```\n",
        ">>> globals()\n",
        "{..., # Lots of variables not shown here.\n",
        " 'say_hello': <function say_hello at 0x7f768eae6730>,\n",
        " 'be_awesome': <function be_awesome at 0x7f768eae67b8>,\n",
        " 'randomly_greet': <function randomly_greet at 0x7f768eae6840>}\n",
        "```\n",
        "\n",
        "Using the @register decorator, you can create your own curated list of interesting variables, effectively hand-picking some functions from globals()."
      ]
    },
    {
      "cell_type": "markdown",
      "metadata": {
        "id": "eVZqBqI9FZ8i"
      },
      "source": [
        "## Fancy decorators\n",
        "So far, you’ve seen how to create simple decorators. You already have a pretty good understanding of what decorators are and how they work. \n",
        "\n",
        "### Decorating Classes\n",
        "There are two different ways you can use decorators on classes. The first one is very close to what you have already done with functions: you can decorate the methods of a class. This was one of the motivations for introducing decorators back in the day.\n",
        "\n",
        "#### Commonly used decorators: `@classmethod`, `@staticmethod`, and `@property`\n",
        "Some commonly used decorators that are even built-ins in Python are `@classmethod`, `@staticmethod`, and `@property`. The @classmethod and @staticmethod decorators are used to define methods inside a class namespace that are not connected to a particular instance of that class. The @property decorator is used to customize getters and setters for class attributes. Expand the box below for an example using these decorators."
      ]
    },
    {
      "cell_type": "code",
      "metadata": {
        "id": "sB6aESwkFZ8j"
      },
      "source": [
        "class Circle:\n",
        "    def __init__(self, radius):\n",
        "        self._radius = radius\n",
        "\n",
        "    @property\n",
        "    def radius(self):\n",
        "        \"\"\"Get value of radius\"\"\"\n",
        "        return self._radius\n",
        "\n",
        "    @radius.setter\n",
        "    def radius(self, value):\n",
        "        \"\"\"Set radius, raise error if negative\"\"\"\n",
        "        if value >= 0:\n",
        "            self._radius = value\n",
        "        else:\n",
        "            raise ValueError(\"Radius must be positive\")\n",
        "\n",
        "    @property\n",
        "    def area(self):\n",
        "        \"\"\"Calculate area inside circle\"\"\"\n",
        "        return self.pi() * self.radius**2\n",
        "\n",
        "    def cylinder_volume(self, height):\n",
        "        \"\"\"Calculate volume of cylinder with circle as base\"\"\"\n",
        "        return self.area * height\n",
        "\n",
        "    @classmethod\n",
        "    def unit_circle(cls):\n",
        "        \"\"\"Factory method creating a circle with radius 1\"\"\"\n",
        "        return cls(1)\n",
        "\n",
        "    @staticmethod\n",
        "    def pi():\n",
        "        \"\"\"Value of π, could use math.pi instead though\"\"\"\n",
        "        return 3.1415926535"
      ],
      "execution_count": null,
      "outputs": []
    },
    {
      "cell_type": "markdown",
      "metadata": {
        "id": "t9V2iqNPFZ8k"
      },
      "source": [
        "* .cylinder_volume() is a regular method.\n",
        "* .radius is a mutable property: it can be set to a different value. However, by defining a setter method, we can do some error testing to make sure it’s not set to a nonsensical negative number. Properties are accessed as attributes without parentheses.\n",
        "* .area is an immutable property: properties without .setter() methods can’t be changed. Even though it is defined as a method, it can be retrieved as an attribute without parentheses.\n",
        "* .unit_circle() is a class method. It’s not bound to one particular instance of Circle. Class methods are often used as factory methods that can create specific instances of the class.\n",
        "* .pi() is a static method. It’s not really dependent on the Circle class, except that it is part of its namespace. Static methods can be called on either an instance or the class."
      ]
    },
    {
      "cell_type": "code",
      "metadata": {
        "id": "Vosg9D8TFZ8l",
        "outputId": "55c4914c-7962-40ab-d64c-12c586ec0b6c"
      },
      "source": [
        "c = Circle(5)\n",
        "print(c.radius)\n",
        "# 5\n",
        "\n",
        "print(c.area)\n",
        "# 78.5398163375\n",
        "\n",
        "c.radius = 2\n",
        "print(c.area)\n",
        "12.566370614\n",
        "\n",
        "# c.area = 100 # AttributeError: can't set attribute\n",
        "\n",
        "c.cylinder_volume(height=4) \n",
        "# 50.265482456\n",
        "\n",
        "# c.radius = -1 # ValueError: Radius must be positive\n",
        "\n",
        "c = Circle.unit_circle()\n",
        "print(c.radius)\n",
        "1\n",
        "\n",
        "print(c.pi())\n",
        "# 3.1415926535\n",
        "\n",
        "print(Circle.pi())\n",
        "3.1415926535"
      ],
      "execution_count": null,
      "outputs": [
        {
          "output_type": "stream",
          "text": [
            "5\n",
            "78.5398163375\n",
            "12.566370614\n",
            "1\n",
            "3.1415926535\n",
            "3.1415926535\n"
          ],
          "name": "stdout"
        },
        {
          "output_type": "execute_result",
          "data": {
            "text/plain": [
              "3.1415926535"
            ]
          },
          "metadata": {
            "tags": []
          },
          "execution_count": 23
        }
      ]
    },
    {
      "cell_type": "markdown",
      "metadata": {
        "id": "cqhy0576FZ8m"
      },
      "source": [
        "#### Decorating functions in a class\n",
        "\n",
        "Let’s define a class where we decorate some of its methods using the @debug and @timer decorators from earlier:"
      ]
    },
    {
      "cell_type": "code",
      "metadata": {
        "id": "jlXq7nYhFZ8n",
        "outputId": "9ebaed96-b590-4e49-bdd6-c7df58283c17"
      },
      "source": [
        "class TimeWaster:\n",
        "    @debug\n",
        "    def __init__(self, max_num):\n",
        "        self.max_num = max_num\n",
        "\n",
        "    @timer\n",
        "    def waste_time(self, num_times):\n",
        "        for _ in range(num_times):\n",
        "            sum([i**2 for i in range(self.max_num)])\n",
        "            \n",
        "# Using this class, you can see the effect of the decorators:\n",
        "\n",
        "tw = TimeWaster(1000)\n",
        "# Calling __init__(<time_waster.TimeWaster object at 0x7efccce03908>, 1000)\n",
        "# '__init__' returned None\n",
        "\n",
        "tw.waste_time(999)\n",
        "# Finished 'waste_time' in 0.3376 secs"
      ],
      "execution_count": null,
      "outputs": [
        {
          "output_type": "stream",
          "text": [
            "Calling __init__(<__main__.TimeWaster object at 0x05FA2090>, 1000)\n",
            "'__init__' returned None\n",
            "Finished 'waste_time' in 0.2887 secs\n"
          ],
          "name": "stdout"
        }
      ]
    },
    {
      "cell_type": "markdown",
      "metadata": {
        "id": "2kdwYIhOFZ8q"
      },
      "source": [
        "### Whole class decorators\n",
        "The other way to use decorators on classes is to decorate the whole class. This is, for example, done in the new dataclasses module in Python 3.7:\n",
        "\n"
      ]
    },
    {
      "cell_type": "code",
      "metadata": {
        "id": "ImM_BpO1FZ8t"
      },
      "source": [
        "import sys\n",
        "if sys.version_info < (3, 7):\n",
        "    print('dataclasses only work with python 3.7 and above')\n",
        "else:    \n",
        "    \n",
        "    from dataclasses import dataclass\n",
        "\n",
        "    @dataclass\n",
        "    class PlayingCard:\n",
        "        rank: str\n",
        "        suit: str\n",
        "\n",
        "    PlayingCard('queen', 'hearts')\n",
        "\n",
        "    # The meaning of the syntax is similar to the function decorators. \n",
        "    # In the example above, you could have done the decoration by writing PlayingCard = dataclass(PlayingCard).\n",
        "\n",
        "    # A common use of class decorators is to be a simpler alternative to some use-cases of metaclasses. \n",
        "    # In both cases, you are changing the definition of a class dynamically."
      ],
      "execution_count": null,
      "outputs": []
    },
    {
      "cell_type": "markdown",
      "metadata": {
        "id": "SajoH2Y-FZ8v"
      },
      "source": [
        "#### Whole class decorators - Constructor decorator\n",
        "Writing a class decorator is very similar to writing a function decorator. The only difference is that the decorator will receive a class and not a function as an argument. In fact, all the decorators you saw above will work as class decorators. When you are using them on a class instead of a function, their effect might not be what you want. In the following example, the @timer decorator is applied to a class:"
      ]
    },
    {
      "cell_type": "code",
      "metadata": {
        "id": "piMbVdUZFZ8w",
        "outputId": "2272de28-a8f3-493c-c53d-0422afbdecae"
      },
      "source": [
        "@timer # decorates TimeWaster.__init__\n",
        "class TimeWaster:\n",
        "    def __init__(self, max_num):\n",
        "        self.max_num = max_num\n",
        "\n",
        "    def waste_time(self, num_times):\n",
        "        for _ in range(num_times):\n",
        "            sum([i**2 for i in range(self.max_num)])\n",
        "            \n",
        "# Decorating a class does not decorate its methods. \n",
        "# Recall that @timer is just shorthand for TimeWaster = timer(TimeWaster).\n",
        "# Here, @timer only measures the time it takes to instantiate the class:\n",
        "\n",
        "tw = TimeWaster(1000)\n",
        "# Finished 'TimeWaster' in 0.0000 secs\n",
        "\n",
        "tw.waste_time(999) # doesnt use the #timer decorator\n"
      ],
      "execution_count": null,
      "outputs": [
        {
          "output_type": "stream",
          "text": [
            "Finished 'TimeWaster' in 0.0000 secs\n"
          ],
          "name": "stdout"
        }
      ]
    },
    {
      "cell_type": "markdown",
      "metadata": {
        "id": "G3Cq72pmFZ8x"
      },
      "source": [
        "### Nesting Decorators\n",
        "You can apply several decorators to a function by stacking them on top of each other:"
      ]
    },
    {
      "cell_type": "code",
      "metadata": {
        "id": "TXg9VznbFZ8y",
        "outputId": "591327d1-5ced-4859-e4b9-c44106d6fe8c"
      },
      "source": [
        "@debug\n",
        "@do_twice\n",
        "def greet(name):\n",
        "    print(f\"Hello {name}\")\n",
        "    \n",
        "#\n",
        "# Think about this as the decorators being executed in the order they are listed. \n",
        "# In other words, @debug calls @do_twice, which calls greet(), or debug(do_twice(greet())):\n",
        "#\n",
        "\n",
        "greet(\"Eva\")\n",
        "# Calling greet('Eva')\n",
        "# Hello Eva\n",
        "# Hello Eva\n",
        "# 'greet' returned None"
      ],
      "execution_count": null,
      "outputs": [
        {
          "output_type": "stream",
          "text": [
            "Calling greet('Eva')\n",
            "Hello Eva\n",
            "Hello Eva\n",
            "'greet' returned None\n"
          ],
          "name": "stdout"
        }
      ]
    },
    {
      "cell_type": "markdown",
      "metadata": {
        "id": "xkLaDR-uFZ80"
      },
      "source": [
        "### Decorators With Arguments\n",
        "Sometimes, it’s useful to pass arguments to your decorators. For instance, @do_twice could be extended to a @repeat(num_times) decorator. The number of times to execute the decorated function could then be given as an argument.\n",
        "\n",
        "This would allow you to do something like this:\n",
        "\n",
        "```\n",
        "@repeat(num_times=4)\n",
        "def greet(name):\n",
        "    print(f\"Hello {name}\")\n",
        "\n",
        ">>> greet(\"World\")\n",
        "Hello World\n",
        "Hello World\n",
        "Hello World\n",
        "Hello World\n",
        "```\n",
        "\n",
        "Think about how you could achieve this. <br>\n",
        "\n",
        "So far, the name written after the @ has referred to a function object that can be called with another function. To be consistent, you then need repeat(num_times=4) to return a function object that can act as a decorator. Luckily, you already know how to return functions! In general, you want something like the following:\n",
        "\n",
        "```\n",
        "def repeat(num_times):\n",
        "    def decorator_repeat(func):\n",
        "        ...  # Create and return a wrapper function\n",
        "    return decorator_repeat\n",
        "```\n",
        "\n",
        "Typically, the decorator creates and returns an inner wrapper function, so writing the example out in full will give you an inner function within an inner function. While this might sound like the programming equivalent of the Inception movie, we’ll untangle it all in a moment:\n"
      ]
    },
    {
      "cell_type": "code",
      "metadata": {
        "id": "VNiuggjeFZ80",
        "outputId": "f6d3e905-a6cd-4a94-c6d3-9ef165bd9f4d"
      },
      "source": [
        "def repeat(num_times):\n",
        "    def decorator_repeat(func):\n",
        "        @functools.wraps(func)\n",
        "        def wrapper_repeat(*args, **kwargs):\n",
        "            for _ in range(num_times):\n",
        "                value = func(*args, **kwargs)\n",
        "            return value\n",
        "        return wrapper_repeat\n",
        "    return decorator_repeat\n",
        "\n",
        "# It looks a little messy, but we have only put the same decorator pattern you have seen \n",
        "# many times by now inside one additional def that handles the arguments to the decorator. \n",
        "\n",
        "@repeat(num_times=4)\n",
        "def greet(name):\n",
        "    print(f\"Hello {name}\")\n",
        "\n",
        "greet(\"World\")"
      ],
      "execution_count": null,
      "outputs": [
        {
          "output_type": "stream",
          "text": [
            "Hello World\n",
            "Hello World\n",
            "Hello World\n",
            "Hello World\n"
          ],
          "name": "stdout"
        }
      ]
    }
  ]
}