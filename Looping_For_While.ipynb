{
  "cells": [
    {
      "cell_type": "markdown",
      "metadata": {
        "id": "view-in-github",
        "colab_type": "text"
      },
      "source": [
        "<a href=\"https://colab.research.google.com/github/pawan-cpu/ENDURO_Python/blob/main/Looping_For_While.ipynb\" target=\"_parent\"><img src=\"https://colab.research.google.com/assets/colab-badge.svg\" alt=\"Open In Colab\"/></a>"
      ]
    },
    {
      "cell_type": "markdown",
      "source": [
        "in keyword summary with example"
      ],
      "metadata": {
        "id": "Pg2jOFozmtuL"
      }
    },
    {
      "cell_type": "code",
      "source": [
        "a=\"kushal\"\n",
        "if 'e' in a:\n",
        "  print(\"exist\")\n",
        "else:\n",
        "  print(\"not exist\")"
      ],
      "metadata": {
        "id": "y5i7A1izmFnr"
      },
      "execution_count": null,
      "outputs": []
    },
    {
      "cell_type": "markdown",
      "source": [
        "DRY Principle - Do Not Repeat Yourself"
      ],
      "metadata": {
        "id": "xBPlBYPCm0vb"
      }
    },
    {
      "cell_type": "code",
      "execution_count": null,
      "metadata": {
        "id": "HFt2bzynTkjd"
      },
      "outputs": [],
      "source": [
        "for va in range(5,11):\n",
        "    print(va)\n"
      ]
    },
    {
      "cell_type": "code",
      "execution_count": null,
      "metadata": {
        "id": "QT-tXAArTkji"
      },
      "outputs": [],
      "source": [
        "for i in range(1,10,2):\n",
        "    print(i) "
      ]
    },
    {
      "cell_type": "code",
      "execution_count": null,
      "metadata": {
        "colab": {
          "base_uri": "https://localhost:8080/"
        },
        "id": "Q4m2FIF9Tkjk",
        "outputId": "b01b9d7d-1289-4120-ea21-59cb6796d161"
      },
      "outputs": [
        {
          "output_type": "stream",
          "name": "stdout",
          "text": [
            "Maryhadalittlelamb"
          ]
        }
      ],
      "source": [
        "#Looping on a string\n",
        "\n",
        "my_string = \"Mary had a little lamb\"\n",
        "\n",
        "for alphabet in my_string:\n",
        "  if alphabet!=' ':\n",
        "    print(alphabet,end=\"\")\n"
      ]
    },
    {
      "cell_type": "code",
      "execution_count": null,
      "metadata": {
        "id": "Olxnq3L3Tkjl"
      },
      "outputs": [],
      "source": [
        "#pattern to print-\n",
        "\n",
        "* - 0\n",
        "* * - 1\n",
        "* * * -2 \n",
        "* * * * -3\n",
        "* * * * * -4 \n",
        "* * * * - 5\n",
        "* * * -6\n",
        "* * -7\n",
        "* -8\n"
      ]
    },
    {
      "cell_type": "code",
      "execution_count": null,
      "metadata": {
        "colab": {
          "base_uri": "https://localhost:8080/"
        },
        "id": "rhgWxCJ3Tkjl",
        "outputId": "4fd73ecc-32f6-4e67-ee9f-aa3c88c91472"
      },
      "outputs": [
        {
          "output_type": "stream",
          "name": "stdout",
          "text": [
            "* \n",
            "* * \n",
            "* * * \n",
            "* * * * \n",
            "* * * * * \n",
            "* * * * \n",
            "* * * \n",
            "* * \n",
            "* \n"
          ]
        }
      ],
      "source": [
        "str1=''\n",
        "for i in range(0,9):\n",
        "    if i<5:\n",
        "        str1 += '* '\n",
        "        print(str1)\n",
        "    elif i>4:\n",
        "        str1 = str1[:-2]\n",
        "        print(str1)\n",
        "\n",
        "\n",
        "\n",
        "\n",
        "#str1=''\n",
        "#i=0   str1=*_\n",
        "#i=1   str1=*_*_\n",
        "#i=2   str1=*_*_*_\n",
        "#i=3   str1=*_*_*_*_\n",
        "#i=4   str1=*_*_*_*_*_\n",
        "\n",
        "#i=5   str1=*_*_*_*_\n",
        "#i=6   str1=*_*_*_\n",
        "#i=7   str1=*_*_\n",
        "\n",
        "\n",
        "\n",
        "\n",
        "\n"
      ]
    },
    {
      "cell_type": "markdown",
      "source": [
        "STRING SLICING Example to understand\n"
      ],
      "metadata": {
        "id": "62Jfv3e1mb_4"
      }
    },
    {
      "cell_type": "code",
      "source": [
        "a=\"kushal\"[:-3]\n",
        "print(a)"
      ],
      "metadata": {
        "colab": {
          "base_uri": "https://localhost:8080/"
        },
        "id": "oIYk5fIq4II1",
        "outputId": "fab48062-10be-4c85-927c-d14c44e77170"
      },
      "execution_count": null,
      "outputs": [
        {
          "output_type": "stream",
          "name": "stdout",
          "text": [
            "kus\n"
          ]
        }
      ]
    },
    {
      "cell_type": "code",
      "execution_count": null,
      "metadata": {
        "id": "he_DKywTTkjm"
      },
      "outputs": [],
      "source": [
        "my_string = \"Mary had a little lamb\"\n",
        "\n",
        "for n,alphabet in enumerate(my_string,-3):\n",
        "    print(alphabet, n)\n"
      ]
    },
    {
      "cell_type": "code",
      "execution_count": null,
      "metadata": {
        "colab": {
          "base_uri": "https://localhost:8080/"
        },
        "id": "hgqVFE3XTkjm",
        "outputId": "16b1ee0f-a280-4c26-86d7-15d0b3db5b62"
      },
      "outputs": [
        {
          "output_type": "stream",
          "name": "stdout",
          "text": [
            " a a a i e a\n"
          ]
        }
      ],
      "source": [
        "vowels =''\n",
        "for alphabet in my_string:\n",
        "    if alphabet in 'aeiou':\n",
        "        vowels += ' ' + alphabet\n",
        "        \n",
        "print(vowels)\n"
      ]
    },
    {
      "cell_type": "code",
      "execution_count": null,
      "metadata": {
        "id": "TTGeh-amTkjn"
      },
      "outputs": [],
      "source": [
        "nums = '838848237890237388221'\n",
        "all_even=''\n",
        "all_odd = ''\n",
        "for number in nums:\n",
        "    if int(number)%2 == 0:\n",
        "        all_even += number\n",
        "    else:\n",
        "        all_odd += number\n",
        "\n",
        "print('All Evens are : '+ all_even + ' & All odds are : '+ all_odd)\n"
      ]
    },
    {
      "cell_type": "code",
      "execution_count": null,
      "metadata": {
        "collapsed": true,
        "id": "2vwbztJATkjn"
      },
      "outputs": [],
      "source": [
        "list_of_inventories = ['Apple', 'Banana', 'Potato', 'Mango', 'Onion', 'Toothpaste']\n",
        "fruits = ['Apple','Banana','Mango','Orange','Strawberry']\n",
        "vegetables = ['Potato', 'Onion','Cucumber', 'Celery']\n"
      ]
    },
    {
      "cell_type": "code",
      "execution_count": null,
      "metadata": {
        "colab": {
          "base_uri": "https://localhost:8080/"
        },
        "id": "DzgGysoVTkjo",
        "outputId": "30a846e0-699b-401c-ce97-af96a9fc1bc1"
      },
      "outputs": [
        {
          "output_type": "stream",
          "name": "stdout",
          "text": [
            "Apple\n",
            "Banana\n",
            "Potato\n",
            "Mango\n",
            "Onion\n",
            "Toothpaste\n",
            "3\n",
            "2\n"
          ]
        }
      ],
      "source": [
        "#count of fruits in inventory list\n",
        "count_fruits = 0\n",
        "#count of vegetables in inventory list\n",
        "count_veg = 0\n",
        "for item in list_of_inventories:\n",
        "    print(item)\n",
        "    if item in fruits:\n",
        "        count_fruits+=1\n",
        "    elif item in vegetables:\n",
        "        count_veg +=1\n",
        "    else:\n",
        "        continue\n",
        "print(count_fruits)\n",
        "print(count_veg)"
      ]
    },
    {
      "cell_type": "code",
      "execution_count": null,
      "metadata": {
        "colab": {
          "base_uri": "https://localhost:8080/"
        },
        "id": "pdr4uN10Tkjo",
        "outputId": "41a2f538-d4ea-44a0-e817-8831dd48f038"
      },
      "outputs": [
        {
          "output_type": "stream",
          "name": "stdout",
          "text": [
            "Is\n",
            "Python\n",
            "simpler\n",
            "than\n",
            "R\n",
            "?\n"
          ]
        }
      ],
      "source": [
        "sentence = \"Is Python simpler than R ?\"\n",
        "\n",
        "for word in sentence.split(\" \"):\n",
        "    print(word)\n"
      ]
    },
    {
      "cell_type": "code",
      "execution_count": null,
      "metadata": {
        "colab": {
          "base_uri": "https://localhost:8080/"
        },
        "id": "UOAxatoLTkjo",
        "outputId": "b1d6fe3b-8971-4888-c6fe-b89624653a58"
      },
      "outputs": [
        {
          "output_type": "stream",
          "name": "stdout",
          "text": [
            "beautiful\n",
            "morning\n"
          ]
        }
      ],
      "source": [
        "\n",
        "#sentence check\n",
        "tweet = '#beautiful #morning it is looking good'\n",
        "\n",
        "for word in tweet.split():\n",
        "    if word.startswith('#'):\n",
        "        print(word[1:])\n"
      ]
    },
    {
      "cell_type": "code",
      "execution_count": null,
      "metadata": {
        "collapsed": true,
        "id": "mt_okKCXTkjp"
      },
      "outputs": [],
      "source": [
        "students_data = {1:['Shivam Bansal', 24] , 2:['Udit Bansal',25], 3:['Sonam Gupta', 26], 4:['Saif Ansari',24], 5:['Huzefa Calcuttawala',27]}\n"
      ]
    },
    {
      "cell_type": "code",
      "execution_count": null,
      "metadata": {
        "colab": {
          "base_uri": "https://localhost:8080/"
        },
        "id": "n8uEqmh3Tkjp",
        "outputId": "65f7f4e9-e2f5-4a28-e485-a5ea770ead6d"
      },
      "outputs": [
        {
          "output_type": "stream",
          "name": "stdout",
          "text": [
            "1 ['Shivam Bansal', 24]\n",
            "2 ['Udit Bansal', 25]\n",
            "3 ['Sonam Gupta', 26]\n",
            "4 ['Saif Ansari', 24]\n",
            "5 ['Huzefa Calcuttawala', 27]\n"
          ]
        }
      ],
      "source": [
        "for key, val in students_data.items():\n",
        "    print(key, val)\n"
      ]
    },
    {
      "cell_type": "code",
      "execution_count": null,
      "metadata": {
        "id": "l24HwLjRTkjp"
      },
      "outputs": [],
      "source": [
        "for key in students_data.keys():\n",
        "    print(key)\n"
      ]
    },
    {
      "cell_type": "code",
      "execution_count": null,
      "metadata": {
        "id": "4A0gJKeKTkjq"
      },
      "outputs": [],
      "source": [
        "for val in students_data.values():\n",
        "    print(val)\n"
      ]
    },
    {
      "cell_type": "code",
      "execution_count": null,
      "metadata": {
        "id": "iQU40CzKTkjq"
      },
      "outputs": [],
      "source": [
        "count = 0\n",
        "for key, val in students_data.items():\n",
        "    if val[1]<25:\n",
        "        count+=1\n",
        "\n",
        "print(count)"
      ]
    },
    {
      "cell_type": "code",
      "execution_count": null,
      "metadata": {
        "id": "WxgjktfDTkjr"
      },
      "outputs": [],
      "source": [
        "#while loop\n",
        "\n",
        "start = 20\n",
        "while start<51:\n",
        "    print(start)\n",
        "    start+=1\n",
        "    \n",
        "\n"
      ]
    },
    {
      "cell_type": "code",
      "execution_count": null,
      "metadata": {
        "colab": {
          "base_uri": "https://localhost:8080/"
        },
        "id": "sseCGgiLTkjs",
        "outputId": "80ecc94d-130a-4d9b-93fa-665f7ca30206"
      },
      "outputs": [
        {
          "output_type": "stream",
          "name": "stdout",
          "text": [
            "1 is not divisible by 3\n",
            "2 is not divisible by 3\n",
            "hello\n"
          ]
        }
      ],
      "source": [
        "for i in range(1,6):\n",
        "    if (i % 3 == 0):\n",
        "         break\n",
        "         print(\"divisible\")\n",
        "       \n",
        "\n",
        "    print(str(i) + \" is not divisible by 3\")\n",
        "\n",
        "print(\"hello\")"
      ]
    },
    {
      "cell_type": "code",
      "execution_count": null,
      "metadata": {
        "id": "gfiG_ozfTkju",
        "outputId": "e8e121be-f89d-4191-df54-faa163362262"
      },
      "outputs": [
        {
          "name": "stdout",
          "output_type": "stream",
          "text": [
            "1 is not divisible by 3\n",
            "2 is not divisible by 3\n",
            "3 is Divisible by 3\n",
            "3 is not divisible by 3\n",
            "4 is not divisible by 3\n",
            "5 is not divisible by 3\n"
          ]
        }
      ],
      "source": [
        "for i in range(1,6):\n",
        "    if (i % 3 == 0):\n",
        "        print(str(i) + \" is Divisible by 3\")\n",
        "        pass\n",
        "\n",
        "    print(str(i) + \" is not divisible by 3\")"
      ]
    },
    {
      "cell_type": "code",
      "source": [
        "print(\"hello\")\n",
        "print(\"hello\")\n",
        "print(\"hello\")\n",
        "print(\"hello\")\n",
        "print(\"hello\")"
      ],
      "metadata": {
        "colab": {
          "base_uri": "https://localhost:8080/"
        },
        "id": "NsXFRK8MxDtX",
        "outputId": "dc888351-1da3-4263-cbcc-b2f44e633618"
      },
      "execution_count": null,
      "outputs": [
        {
          "output_type": "stream",
          "name": "stdout",
          "text": [
            "hello\n",
            "hello\n",
            "hello\n",
            "hello\n",
            "hello\n"
          ]
        }
      ]
    }
  ],
  "metadata": {
    "anaconda-cloud": {},
    "kernelspec": {
      "display_name": "Python 3",
      "language": "python",
      "name": "python3"
    },
    "language_info": {
      "codemirror_mode": {
        "name": "ipython",
        "version": 3
      },
      "file_extension": ".py",
      "mimetype": "text/x-python",
      "name": "python",
      "nbconvert_exporter": "python",
      "pygments_lexer": "ipython3",
      "version": "3.8.3"
    },
    "colab": {
      "provenance": [],
      "include_colab_link": true
    }
  },
  "nbformat": 4,
  "nbformat_minor": 0
}