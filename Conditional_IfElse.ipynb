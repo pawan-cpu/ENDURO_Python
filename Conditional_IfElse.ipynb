{
  "cells": [
    {
      "cell_type": "markdown",
      "metadata": {
        "id": "view-in-github",
        "colab_type": "text"
      },
      "source": [
        "<a href=\"https://colab.research.google.com/github/pawan-cpu/ENDURO_Python/blob/main/Conditional_IfElse.ipynb\" target=\"_parent\"><img src=\"https://colab.research.google.com/assets/colab-badge.svg\" alt=\"Open In Colab\"/></a>"
      ]
    },
    {
      "cell_type": "code",
      "execution_count": null,
      "metadata": {
        "colab": {
          "base_uri": "https://localhost:8080/"
        },
        "id": "AgKzj-XCYi4z",
        "outputId": "a8fe11cf-7ac2-4d63-a126-cca36198666f"
      },
      "outputs": [
        {
          "name": "stdout",
          "output_type": "stream",
          "text": [
            "Enter your test score : 75\n"
          ]
        }
      ],
      "source": [
        "score = int(input(\"Enter your test score : \"))\n",
        "passing = 40\n",
        "distinction = 90\n"
      ]
    },
    {
      "cell_type": "code",
      "execution_count": null,
      "metadata": {
        "colab": {
          "base_uri": "https://localhost:8080/"
        },
        "id": "koAYd8v3Yi5F",
        "outputId": "5de1c3aa-0ef3-45fa-9218-9d20a194c5b1"
      },
      "outputs": [
        {
          "name": "stdout",
          "output_type": "stream",
          "text": [
            "You have passed!\n"
          ]
        }
      ],
      "source": [
        "if score >= distinction:\n",
        "    print(\"You're at the top! You’ve earned a distinction!\")\n",
        "\n",
        "if score >= passing and score < distinction:\n",
        "    print(\"You have passed!\")\n",
        "\n",
        "if score < passing:\n",
        "    print(\"Sorry! You have failed\")\n"
      ]
    },
    {
      "cell_type": "code",
      "execution_count": null,
      "metadata": {
        "id": "ETfLK5OJYi5k"
      },
      "outputs": [],
      "source": [
        "if score==100:\n",
        "    print(\"Perfect\")\n",
        "elif  90<=score<100:\n",
        "    print(\"Distinction\")\n",
        "elif 65<=score<90:\n",
        "    print(\"First Class\")\n",
        "elif 40<=score<65:\n",
        "    print(\"Second Class\")\n",
        "else:\n",
        "    print(\"Failed\")\n"
      ]
    },
    {
      "cell_type": "code",
      "execution_count": null,
      "metadata": {
        "id": "LH8I-KboYi5n"
      },
      "outputs": [],
      "source": [
        "statement = \"The coffee is bad\"\n",
        "if 'bad' in statement:\n",
        "    print(\"Bad review!\")\n",
        "\n",
        "statement2 = \"This phone works great\"\n",
        "if 'bad' in statement2:\n",
        "    print(\"This is not a bad review\")\n"
      ]
    },
    {
      "cell_type": "code",
      "execution_count": null,
      "metadata": {
        "id": "2eNArbR_Yi5q"
      },
      "outputs": [],
      "source": [
        "num = int(input(\"Enter a number: \"))\n",
        "#enter 24\n",
        "if num%2==0:\n",
        "    print(\"Even\")\n",
        "    if num%4==0:\n",
        "        print(\"divisible by 4\")\n",
        "    else:\n",
        "        print(\"Not divisible by 4\")\n",
        "else:\n",
        "    print(\"Odd\")\n",
        "    if num%3==0:\n",
        "        print(\"Divisible by 3\")\n",
        "    else:\n",
        "        print(\"Not divisible by 3\")\n"
      ]
    },
    {
      "cell_type": "code",
      "execution_count": null,
      "metadata": {
        "id": "A56D8uevYi5r"
      },
      "outputs": [],
      "source": [
        "if None:\n",
        "    print(\"Is True\")\n",
        "else:\n",
        "    print(\"Is False\")"
      ]
    },
    {
      "cell_type": "code",
      "execution_count": null,
      "metadata": {
        "colab": {
          "base_uri": "https://localhost:8080/"
        },
        "id": "-GjKpISqeL-4",
        "outputId": "f69bba5e-9b22-4eed-94ad-f72233e507aa"
      },
      "outputs": [
        {
          "output_type": "stream",
          "name": "stdout",
          "text": [
            "present\n"
          ]
        }
      ],
      "source": [
        "name=\"   \"\n",
        "if name:\n",
        "  print(\"present\")"
      ]
    }
  ],
  "metadata": {
    "anaconda-cloud": {},
    "colab": {
      "provenance": [],
      "include_colab_link": true
    },
    "kernelspec": {
      "display_name": "Python 3",
      "language": "python",
      "name": "python3"
    },
    "language_info": {
      "codemirror_mode": {
        "name": "ipython",
        "version": 3
      },
      "file_extension": ".py",
      "mimetype": "text/x-python",
      "name": "python",
      "nbconvert_exporter": "python",
      "pygments_lexer": "ipython3",
      "version": "3.8.3"
    }
  },
  "nbformat": 4,
  "nbformat_minor": 0
}