{
  "cells": [
    {
      "cell_type": "markdown",
      "metadata": {
        "id": "view-in-github",
        "colab_type": "text"
      },
      "source": [
        "<a href=\"https://colab.research.google.com/github/pawan-cpu/ENDURO_Python/blob/main/pawank_Lists_lec_4.ipynb\" target=\"_parent\"><img src=\"https://colab.research.google.com/assets/colab-badge.svg\" alt=\"Open In Colab\"/></a>"
      ]
    },
    {
      "cell_type": "code",
      "execution_count": null,
      "metadata": {
        "id": "1Ons0e1h8HrX",
        "outputId": "df96f804-a2ec-46ca-90a1-62c4612f6104"
      },
      "outputs": [
        {
          "name": "stdout",
          "output_type": "stream",
          "text": [
            "[]\n"
          ]
        }
      ],
      "source": [
        "initial_list = []\n",
        "print(initial_list)"
      ]
    },
    {
      "cell_type": "code",
      "source": [
        "## name, age\n",
        "\n",
        "## 'My name is {name}. I am {age} years old.'\n",
        "\n",
        "name=input('Enter your name')\n",
        "age=int(input('Enter your age'))\n",
        "\n",
        "print(type(name))\n",
        "print(type(age))\n",
        "\n",
        "if (age%2==0):\n",
        "  print('My name is '+name +'. I am '+str(age)+' years old.')\n",
        "  print(f'My name is {name}. I am {age} years old.')"
      ],
      "metadata": {
        "colab": {
          "base_uri": "https://localhost:8080/"
        },
        "id": "BSeifTYUjbs_",
        "outputId": "05039129-03ca-40b6-dd22-b0de66671be2"
      },
      "execution_count": null,
      "outputs": [
        {
          "output_type": "stream",
          "name": "stdout",
          "text": [
            "Enter your nameabhishek\n",
            "Enter your age32\n",
            "<class 'str'>\n",
            "<class 'int'>\n",
            "My name is abhishek. I am 32 years old.\n",
            "My name is abhishek. I am 32 years old.\n"
          ]
        }
      ]
    },
    {
      "cell_type": "code",
      "source": [
        "my_list=[1,3,5,7,20]\n",
        "print(my_list)\n",
        "print(type(my_list))"
      ],
      "metadata": {
        "colab": {
          "base_uri": "https://localhost:8080/"
        },
        "id": "9F-qbyKOms0W",
        "outputId": "9947d877-9254-4a9e-d4dc-ae12934fd1e6"
      },
      "execution_count": null,
      "outputs": [
        {
          "output_type": "stream",
          "name": "stdout",
          "text": [
            "[1, 3, 5, 7, 20]\n",
            "<class 'list'>\n"
          ]
        }
      ]
    },
    {
      "cell_type": "markdown",
      "source": [
        "### link list\n",
        "## it is acollection of elements either of same data type or different data type with a facility to add, remove an item from the list.\n",
        "\n",
        "## we typically use iteration using loops, normally for loop for naviagting to the individual element of the list"
      ],
      "metadata": {
        "id": "LhDwql5NmSgY"
      }
    },
    {
      "cell_type": "code",
      "execution_count": null,
      "metadata": {
        "colab": {
          "base_uri": "https://localhost:8080/"
        },
        "id": "i1fBBuIc8Hrb",
        "outputId": "6858fe9b-c2b0-446a-d7d8-c4cbdcb8cf4b"
      },
      "outputs": [
        {
          "output_type": "stream",
          "name": "stdout",
          "text": [
            "['R', 'Python', 'SAS', 'Scala', 42, 55.0]\n"
          ]
        }
      ],
      "source": [
        "DA_languages = ['R','Python', 'SAS', 'Scala', 42,55.0]\n",
        "## indexing - starting from 0\n",
        "##[0,1,2,3,4,5]\n",
        "print(DA_languages)"
      ]
    },
    {
      "cell_type": "code",
      "source": [
        "## iteration type 1\n",
        "\n",
        "for i in DA_languages:\n",
        "  if i==\"SAS\":\n",
        "    i=\"PAS\"\n",
        "print(DA_languages)"
      ],
      "metadata": {
        "colab": {
          "base_uri": "https://localhost:8080/"
        },
        "id": "PDuKk4FGpIRt",
        "outputId": "acd53809-479d-48ca-8743-4bc7f6328047"
      },
      "execution_count": null,
      "outputs": [
        {
          "output_type": "stream",
          "name": "stdout",
          "text": [
            "['R', 'Python', 'SAS', 'Scala', 42, 55.0]\n"
          ]
        }
      ]
    },
    {
      "cell_type": "code",
      "source": [
        "for i in range(len(DA_languages)):\n",
        "  if DA_languages[i]==\"SAS\":\n",
        "    DA_languages[i]=\"PAS\"\n",
        "\n",
        "print(DA_languages)\n"
      ],
      "metadata": {
        "colab": {
          "base_uri": "https://localhost:8080/"
        },
        "id": "NEeufiPhpVJQ",
        "outputId": "25162aa5-23a3-4740-d01f-337aab4d91ef"
      },
      "execution_count": null,
      "outputs": [
        {
          "output_type": "stream",
          "name": "stdout",
          "text": [
            "['R', 'Python', 'PAS', 'Scala', 42, 55.0]\n"
          ]
        }
      ]
    },
    {
      "cell_type": "code",
      "source": [
        "len(DA_languages)"
      ],
      "metadata": {
        "colab": {
          "base_uri": "https://localhost:8080/"
        },
        "id": "jUHSCiIenocu",
        "outputId": "5d60e8f0-9a75-4c88-8bdd-d0cde302311f"
      },
      "execution_count": null,
      "outputs": [
        {
          "output_type": "execute_result",
          "data": {
            "text/plain": [
              "6"
            ]
          },
          "metadata": {},
          "execution_count": 12
        }
      ]
    },
    {
      "cell_type": "code",
      "source": [
        "for i in range(1,10):\n",
        "  print(i)"
      ],
      "metadata": {
        "colab": {
          "base_uri": "https://localhost:8080/"
        },
        "id": "R4xh8XF2nvHk",
        "outputId": "2f9d4769-6f38-4641-a928-3d45259742c2"
      },
      "execution_count": null,
      "outputs": [
        {
          "output_type": "stream",
          "name": "stdout",
          "text": [
            "1\n",
            "2\n",
            "3\n",
            "4\n",
            "5\n",
            "6\n",
            "7\n",
            "8\n",
            "9\n"
          ]
        }
      ]
    },
    {
      "cell_type": "code",
      "source": [
        "a=len(range(1,10))\n",
        "print(a)"
      ],
      "metadata": {
        "colab": {
          "base_uri": "https://localhost:8080/"
        },
        "id": "7_ZM2LQmn5ET",
        "outputId": "35becb3f-449e-4269-a9d4-2afedb08530d"
      },
      "execution_count": null,
      "outputs": [
        {
          "output_type": "stream",
          "name": "stdout",
          "text": [
            "9\n"
          ]
        }
      ]
    },
    {
      "cell_type": "code",
      "source": [
        "a=[]"
      ],
      "metadata": {
        "id": "wUJ-wlBjpFW-"
      },
      "execution_count": null,
      "outputs": []
    },
    {
      "cell_type": "code",
      "source": [
        "a=[[0,1,2,3,4,5,6,7,8,9,10]]\n",
        "for i in a:\n",
        "  print(i)\n"
      ],
      "metadata": {
        "colab": {
          "base_uri": "https://localhost:8080/"
        },
        "id": "ZwPChS_QoVWz",
        "outputId": "d1933ce8-91bb-4552-e0c1-3130d622a41b"
      },
      "execution_count": null,
      "outputs": [
        {
          "output_type": "stream",
          "name": "stdout",
          "text": [
            "[0, 1, 2, 3, 4, 5, 6, 7, 8, 9, 10]\n"
          ]
        }
      ]
    },
    {
      "cell_type": "code",
      "execution_count": null,
      "metadata": {
        "id": "nolAqVod8Hrd",
        "outputId": "f0d0a0d0-066f-4d54-aca0-1c136bb744bf"
      },
      "outputs": [
        {
          "name": "stdout",
          "output_type": "stream",
          "text": [
            "R\n"
          ]
        }
      ],
      "source": [
        "print(DA_languages[0])"
      ]
    },
    {
      "cell_type": "code",
      "execution_count": null,
      "metadata": {
        "id": "QDFl6Kut8Hre",
        "outputId": "5f550414-557c-4673-9d36-57d222722c46"
      },
      "outputs": [
        {
          "name": "stdout",
          "output_type": "stream",
          "text": [
            "['Python', 'SAS']\n"
          ]
        }
      ],
      "source": [
        "print(DA_languages[1:3])\n"
      ]
    },
    {
      "cell_type": "code",
      "execution_count": null,
      "metadata": {
        "id": "Pjj3029G8Hre",
        "outputId": "79df4351-ed8b-486e-d063-027fb0414764"
      },
      "outputs": [
        {
          "name": "stdout",
          "output_type": "stream",
          "text": [
            "['R', 'Python']\n"
          ]
        }
      ],
      "source": [
        "print(DA_languages[0:2])"
      ]
    },
    {
      "cell_type": "code",
      "execution_count": null,
      "metadata": {
        "id": "Yvn9UNMf8Hrf",
        "outputId": "f07c81a6-6eaf-4d3d-c7cd-95055cfcf740"
      },
      "outputs": [
        {
          "name": "stdout",
          "output_type": "stream",
          "text": [
            "42\n"
          ]
        }
      ],
      "source": [
        "print(DA_languages[-1])"
      ]
    },
    {
      "cell_type": "code",
      "execution_count": null,
      "metadata": {
        "id": "uJzU92iS8Hrf",
        "outputId": "c39892ed-1814-404c-b249-f789fad6520c"
      },
      "outputs": [
        {
          "name": "stdout",
          "output_type": "stream",
          "text": [
            "['SAS', 'Scala', 42]\n"
          ]
        }
      ],
      "source": [
        "print(DA_languages[2:])"
      ]
    },
    {
      "cell_type": "code",
      "execution_count": null,
      "metadata": {
        "id": "E1MysBy28Hrg",
        "outputId": "c33bd370-2cec-4396-e91d-fbff5cad9606"
      },
      "outputs": [
        {
          "name": "stdout",
          "output_type": "stream",
          "text": [
            "['R', 'Python']\n"
          ]
        }
      ],
      "source": [
        "print(DA_languages[ : -3])"
      ]
    },
    {
      "cell_type": "code",
      "execution_count": null,
      "metadata": {
        "colab": {
          "base_uri": "https://localhost:8080/"
        },
        "id": "WNMLzOMU8Hrg",
        "outputId": "c5edb448-bfb2-497f-d475-b5df1366cb91"
      },
      "outputs": [
        {
          "output_type": "stream",
          "name": "stdout",
          "text": [
            "Java\n",
            "Java\n",
            "['R', 'Python', 'SAS', 'Scala', 42, 'Java']\n"
          ]
        }
      ],
      "source": [
        "DA_languages = ['R','Python', 'SAS', 'Scala', 42]\n",
        "DA_languages.append('Java') ### create\n",
        "print(DA_languages[len(DA_languages)-1])\n",
        "print(DA_languages[-1]) ## read\n",
        "print(DA_languages)"
      ]
    },
    {
      "cell_type": "code",
      "source": [
        "print(DA_languages)\n",
        "for i in range(len(DA_languages)):\n",
        "  if DA_languages[i]=='Java':\n",
        "    print(True)\n",
        "    DA_languages[i]='C#'\n",
        "\n",
        "print(DA_languages)\n"
      ],
      "metadata": {
        "colab": {
          "base_uri": "https://localhost:8080/"
        },
        "id": "IhwYKeKurk3A",
        "outputId": "a67b9125-ad5f-44f8-d126-65c60cafc776"
      },
      "execution_count": null,
      "outputs": [
        {
          "output_type": "stream",
          "name": "stdout",
          "text": [
            "['R', 'Python', 'SAS', 'Scala', 42, 'Java']\n",
            "True\n",
            "['R', 'Python', 'SAS', 'Scala', 42, 'C#']\n"
          ]
        }
      ]
    },
    {
      "cell_type": "markdown",
      "source": [
        "### create\n",
        "### read\n",
        "### update\n",
        "### delete\n",
        "\n",
        "### CRUD principle"
      ],
      "metadata": {
        "id": "reBTj1NEq2i9"
      }
    },
    {
      "cell_type": "code",
      "execution_count": null,
      "metadata": {
        "colab": {
          "base_uri": "https://localhost:8080/",
          "height": 35
        },
        "id": "K7LNKJQs8Hrh",
        "outputId": "4512594d-a96f-4e43-c41d-2236f1331517"
      },
      "outputs": [
        {
          "output_type": "execute_result",
          "data": {
            "text/plain": [
              "'R'"
            ],
            "application/vnd.google.colaboratory.intrinsic+json": {
              "type": "string"
            }
          },
          "metadata": {},
          "execution_count": 51
        }
      ],
      "source": [
        "DA_languages.pop()"
      ]
    },
    {
      "cell_type": "code",
      "execution_count": null,
      "metadata": {
        "colab": {
          "base_uri": "https://localhost:8080/"
        },
        "id": "weVDrB4E8Hri",
        "outputId": "274c3792-cdff-4360-9c0d-9e72f1443f4e"
      },
      "outputs": [
        {
          "output_type": "stream",
          "name": "stdout",
          "text": [
            "['Scala', 42, 'R']\n"
          ]
        }
      ],
      "source": [
        "DA_languages.pop(0) \n",
        "print(DA_languages)"
      ]
    },
    {
      "cell_type": "code",
      "execution_count": null,
      "metadata": {
        "colab": {
          "base_uri": "https://localhost:8080/"
        },
        "id": "rIHaAzyY8Hrj",
        "outputId": "1571e900-81cc-4671-eefe-b92cfaf7f7cf"
      },
      "outputs": [
        {
          "output_type": "stream",
          "name": "stdout",
          "text": [
            "['Scala', 'R']\n"
          ]
        }
      ],
      "source": [
        "DA_languages.pop(1)\n",
        "print(DA_languages)"
      ]
    },
    {
      "cell_type": "code",
      "execution_count": null,
      "metadata": {
        "colab": {
          "base_uri": "https://localhost:8080/"
        },
        "id": "Lkh1JcNG8Hrj",
        "outputId": "55bcb83f-2d55-4040-9f6e-03670dd8f567"
      },
      "outputs": [
        {
          "output_type": "stream",
          "name": "stdout",
          "text": [
            "['Scala', 'R']\n"
          ]
        }
      ],
      "source": [
        "DA_languages.append('R')\n",
        "DA_languages.remove('R')\n",
        "print(DA_languages)\n"
      ]
    },
    {
      "cell_type": "code",
      "execution_count": null,
      "metadata": {
        "colab": {
          "base_uri": "https://localhost:8080/"
        },
        "id": "a7HQNGg48Hrk",
        "outputId": "fbd740ef-dfb2-452d-fe8c-cde8205bbf90"
      },
      "outputs": [
        {
          "output_type": "stream",
          "name": "stdout",
          "text": [
            "None\n",
            "['Scala', 'R', 'R']\n"
          ]
        }
      ],
      "source": [
        "print(DA_languages.append('R'))\n",
        "print(DA_languages)"
      ]
    },
    {
      "cell_type": "code",
      "execution_count": null,
      "metadata": {
        "colab": {
          "base_uri": "https://localhost:8080/"
        },
        "id": "3gwCGrcn8Hrk",
        "outputId": "70271b6b-d223-425e-ebf5-504a96a62466"
      },
      "outputs": [
        {
          "output_type": "stream",
          "name": "stdout",
          "text": [
            "['Scala', 'R', 'R', 'Java']\n",
            "['Scala', 'R', 'R', 'Java']\n"
          ]
        }
      ],
      "source": [
        "new_list = DA_languages\n",
        "DA_languages.append('Java')\n",
        "print(new_list)\n",
        "print (DA_languages)\n"
      ]
    },
    {
      "cell_type": "code",
      "execution_count": null,
      "metadata": {
        "colab": {
          "base_uri": "https://localhost:8080/"
        },
        "id": "w6-O-W1r8Hrl",
        "outputId": "4fae36f6-51dd-4e3d-9a42-f81a7a651ce2"
      },
      "outputs": [
        {
          "output_type": "stream",
          "name": "stdout",
          "text": [
            "140621863264080\n"
          ]
        }
      ],
      "source": [
        "print(id(DA_languages))"
      ]
    },
    {
      "cell_type": "code",
      "execution_count": null,
      "metadata": {
        "colab": {
          "base_uri": "https://localhost:8080/"
        },
        "id": "PfLcqfLe8Hrm",
        "outputId": "1fe5179e-d4f0-4cad-87b5-31486ebe88d4"
      },
      "outputs": [
        {
          "output_type": "stream",
          "name": "stdout",
          "text": [
            "140621863264080\n"
          ]
        }
      ],
      "source": [
        "print(id(new_list))"
      ]
    },
    {
      "cell_type": "code",
      "execution_count": null,
      "metadata": {
        "colab": {
          "base_uri": "https://localhost:8080/"
        },
        "id": "ovKSwZ_C8Hrm",
        "outputId": "798687af-a526-4d3b-8db9-1666d919aac6"
      },
      "outputs": [
        {
          "output_type": "stream",
          "name": "stdout",
          "text": [
            "140621864187296\n"
          ]
        }
      ],
      "source": [
        "new_list = DA_languages[:]\n",
        "print(id(new_list))"
      ]
    },
    {
      "cell_type": "code",
      "execution_count": null,
      "metadata": {
        "colab": {
          "base_uri": "https://localhost:8080/"
        },
        "id": "7Hdp30Bd8Hrn",
        "outputId": "00cb020e-a0ad-497b-b068-9bf24848c203"
      },
      "outputs": [
        {
          "output_type": "stream",
          "name": "stdout",
          "text": [
            "140621863220880\n"
          ]
        }
      ],
      "source": [
        "another_list = DA_languages.copy()\n",
        "print(id(another_list))"
      ]
    },
    {
      "cell_type": "code",
      "execution_count": null,
      "metadata": {
        "id": "HnTdbxeW8Hrn"
      },
      "outputs": [],
      "source": [
        "a_sentence = \"Hi Saif, this is to inform you that I'm not well today.\""
      ]
    },
    {
      "cell_type": "code",
      "execution_count": null,
      "metadata": {
        "colab": {
          "base_uri": "https://localhost:8080/"
        },
        "id": "YMiFxWqO8Hro",
        "outputId": "b96c245b-0f32-4acc-dec9-796109e5b370"
      },
      "outputs": [
        {
          "output_type": "stream",
          "name": "stdout",
          "text": [
            "['Hi', 'Saif,', 'this', 'is', 'to', 'inform', 'you', 'that', \"I'm\", 'not', 'well', 'today.']\n"
          ]
        }
      ],
      "source": [
        "words_in_sentence = a_sentence.split() \n",
        "print(words_in_sentence)"
      ]
    },
    {
      "cell_type": "code",
      "execution_count": null,
      "metadata": {
        "id": "7Ty20xU28Hro"
      },
      "outputs": [],
      "source": [
        "a_mail = \"Hi Saif, this is to inform you that I'm not well today. I won't be coming to office, but I'm available on call. Thanks.\""
      ]
    },
    {
      "cell_type": "code",
      "execution_count": null,
      "metadata": {
        "colab": {
          "base_uri": "https://localhost:8080/"
        },
        "id": "D9HtT0wl8Hro",
        "outputId": "84a4baca-37b9-4b47-fac6-e850293ffa70"
      },
      "outputs": [
        {
          "output_type": "stream",
          "name": "stdout",
          "text": [
            "[\"Hi Saif, this is to inform you that I'm not well today\", \" I won't be coming to office, but I'm available on call\", ' Thanks', '']\n"
          ]
        }
      ],
      "source": [
        "sentences_in_mail = a_mail.split('.')\n",
        "print(sentences_in_mail)"
      ]
    },
    {
      "cell_type": "code",
      "execution_count": null,
      "metadata": {
        "colab": {
          "base_uri": "https://localhost:8080/"
        },
        "id": "e2RK7K8C8Hrp",
        "outputId": "49a09d27-6544-432b-cd15-1ff268330887"
      },
      "outputs": [
        {
          "output_type": "stream",
          "name": "stdout",
          "text": [
            "[\"Hi Saif, this is to inform you that I'm not well today\", \" I won't be coming to office, but I'm available on call\", ' Thanks', '']\n",
            "Hi Saif, this is to inform you that I'm not well today. I won't be coming to office, but I'm available on call. Thanks.\n"
          ]
        }
      ],
      "source": [
        "print(sentences_in_mail)\n",
        "mail = \".\".join(sentences_in_mail)\n",
        "print(mail)"
      ]
    },
    {
      "cell_type": "code",
      "execution_count": null,
      "metadata": {
        "colab": {
          "base_uri": "https://localhost:8080/"
        },
        "id": "HnPK5X8S8Hrp",
        "outputId": "4333e701-be42-4f2a-a303-54c5791a1bac"
      },
      "outputs": [
        {
          "output_type": "stream",
          "name": "stdout",
          "text": [
            "Hi Saif, this is to inform you that I'm not well today &  I won't be coming to office, but I'm available on call &  Thanks & \n"
          ]
        }
      ],
      "source": [
        "mail_new = \" & \".join(sentences_in_mail)\n",
        "print(mail_new)"
      ]
    },
    {
      "cell_type": "code",
      "execution_count": null,
      "metadata": {
        "colab": {
          "base_uri": "https://localhost:8080/"
        },
        "id": "UOdB3y-B8Hrq",
        "outputId": "6351e728-df94-41d9-80b2-21e0b958da32"
      },
      "outputs": [
        {
          "output_type": "stream",
          "name": "stdout",
          "text": [
            "['Hi', 'Hi', 'Hi', 'Hi', 'Hi']\n"
          ]
        }
      ],
      "source": [
        "my_list = [\"Hi\"]\n",
        "print(my_list*5)"
      ]
    },
    {
      "cell_type": "code",
      "execution_count": null,
      "metadata": {
        "colab": {
          "base_uri": "https://localhost:8080/"
        },
        "id": "83YAjK-K8Hrq",
        "outputId": "ad04c697-14e0-4bca-fbe2-af857511e385"
      },
      "outputs": [
        {
          "output_type": "stream",
          "name": "stdout",
          "text": [
            "['Hi', 'Hi']\n"
          ]
        }
      ],
      "source": [
        "print(my_list + my_list)"
      ]
    },
    {
      "cell_type": "code",
      "execution_count": null,
      "metadata": {
        "colab": {
          "base_uri": "https://localhost:8080/"
        },
        "id": "3MxDeSTo8Hrq",
        "outputId": "814d69cc-7847-4b49-8232-431bcc0df20d"
      },
      "outputs": [
        {
          "output_type": "stream",
          "name": "stdout",
          "text": [
            "6\n"
          ]
        }
      ],
      "source": [
        "nums = [2,6,9,3,2,1]\n",
        "print(len(nums))"
      ]
    },
    {
      "cell_type": "code",
      "execution_count": null,
      "metadata": {
        "colab": {
          "base_uri": "https://localhost:8080/"
        },
        "id": "MXPwD0J78Hrr",
        "outputId": "d296fea8-5f99-43fe-9dbc-e05734e6b790"
      },
      "outputs": [
        {
          "output_type": "stream",
          "name": "stdout",
          "text": [
            "[9, 6, 3, 2, 2, 1]\n"
          ]
        }
      ],
      "source": [
        "print(sorted(nums,reverse=True))"
      ]
    },
    {
      "cell_type": "code",
      "execution_count": null,
      "metadata": {
        "colab": {
          "base_uri": "https://localhost:8080/"
        },
        "id": "iAX7ERDC8Hrr",
        "outputId": "7158b634-c8e4-49b2-c2f5-90b020ed23e1"
      },
      "outputs": [
        {
          "output_type": "stream",
          "name": "stdout",
          "text": [
            "9\n"
          ]
        }
      ],
      "source": [
        "print(max(nums))"
      ]
    },
    {
      "cell_type": "code",
      "execution_count": null,
      "metadata": {
        "colab": {
          "base_uri": "https://localhost:8080/"
        },
        "id": "gKrop-DX8Hrr",
        "outputId": "4ab1412e-eda3-404a-ddc4-9202ac90eb8d"
      },
      "outputs": [
        {
          "output_type": "stream",
          "name": "stdout",
          "text": [
            "1\n"
          ]
        }
      ],
      "source": [
        "print(min(nums))"
      ]
    },
    {
      "cell_type": "code",
      "execution_count": null,
      "metadata": {
        "colab": {
          "base_uri": "https://localhost:8080/"
        },
        "id": "aJujinhU8Hrs",
        "outputId": "7309365e-1837-48a1-d97a-156239f3dffc"
      },
      "outputs": [
        {
          "output_type": "stream",
          "name": "stdout",
          "text": [
            "[5, 6, 7]\n"
          ]
        }
      ],
      "source": [
        "nest = [[1, 2, 3, 4], [ 5, 6, 7], [8, 9, 10]]\n",
        "\n",
        "print(nest[1])\n"
      ]
    },
    {
      "cell_type": "code",
      "execution_count": null,
      "metadata": {
        "colab": {
          "base_uri": "https://localhost:8080/"
        },
        "id": "PfxSdgGy8Hrs",
        "outputId": "8a750c7d-ddf6-4d2e-cd4c-8e97065467bd"
      },
      "outputs": [
        {
          "output_type": "stream",
          "name": "stdout",
          "text": [
            "2\n"
          ]
        }
      ],
      "source": [
        "print(nest[0][1])"
      ]
    },
    {
      "cell_type": "code",
      "execution_count": null,
      "metadata": {
        "colab": {
          "base_uri": "https://localhost:8080/"
        },
        "id": "dtVzm6Lf8Hrs",
        "outputId": "122b37e0-34a1-40f7-caf1-57a2ae8e0ee9"
      },
      "outputs": [
        {
          "output_type": "stream",
          "name": "stdout",
          "text": [
            "[[1, 2, 3, 4], [5, 6, 7]]\n"
          ]
        }
      ],
      "source": [
        "print(nest[0:2])"
      ]
    },
    {
      "cell_type": "code",
      "execution_count": null,
      "metadata": {
        "colab": {
          "base_uri": "https://localhost:8080/"
        },
        "id": "jVo-U6aF8Hrt",
        "outputId": "0693d750-0483-4487-9cfd-5240b6a8092e"
      },
      "outputs": [
        {
          "output_type": "stream",
          "name": "stdout",
          "text": [
            "[]\n"
          ]
        }
      ],
      "source": [
        "word = ['1','2','3','4']\n",
        "word[ : ] = [ ] \n",
        "print(word)"
      ]
    },
    {
      "cell_type": "code",
      "execution_count": null,
      "metadata": {
        "id": "2Mj7E6oh8Hrt"
      },
      "outputs": [],
      "source": [
        "## tuple - immutable\n",
        "## list mutable"
      ]
    },
    {
      "cell_type": "code",
      "source": [
        "a=(1,2,3,4)\n",
        "print(type(a))\n",
        "a.append(5)"
      ],
      "metadata": {
        "colab": {
          "base_uri": "https://localhost:8080/",
          "height": 218
        },
        "id": "EthZz078vVae",
        "outputId": "c7dfebef-ccc9-494d-fd76-bacae5f6722d"
      },
      "execution_count": null,
      "outputs": [
        {
          "output_type": "stream",
          "name": "stdout",
          "text": [
            "<class 'tuple'>\n"
          ]
        },
        {
          "output_type": "error",
          "ename": "AttributeError",
          "evalue": "ignored",
          "traceback": [
            "\u001b[0;31m---------------------------------------------------------------------------\u001b[0m",
            "\u001b[0;31mAttributeError\u001b[0m                            Traceback (most recent call last)",
            "\u001b[0;32m<ipython-input-88-78010052c716>\u001b[0m in \u001b[0;36m<module>\u001b[0;34m\u001b[0m\n\u001b[1;32m      1\u001b[0m \u001b[0ma\u001b[0m\u001b[0;34m=\u001b[0m\u001b[0;34m(\u001b[0m\u001b[0;36m1\u001b[0m\u001b[0;34m,\u001b[0m\u001b[0;36m2\u001b[0m\u001b[0;34m,\u001b[0m\u001b[0;36m3\u001b[0m\u001b[0;34m,\u001b[0m\u001b[0;36m4\u001b[0m\u001b[0;34m)\u001b[0m\u001b[0;34m\u001b[0m\u001b[0;34m\u001b[0m\u001b[0m\n\u001b[1;32m      2\u001b[0m \u001b[0mprint\u001b[0m\u001b[0;34m(\u001b[0m\u001b[0mtype\u001b[0m\u001b[0;34m(\u001b[0m\u001b[0ma\u001b[0m\u001b[0;34m)\u001b[0m\u001b[0;34m)\u001b[0m\u001b[0;34m\u001b[0m\u001b[0;34m\u001b[0m\u001b[0m\n\u001b[0;32m----> 3\u001b[0;31m \u001b[0ma\u001b[0m\u001b[0;34m.\u001b[0m\u001b[0mappend\u001b[0m\u001b[0;34m(\u001b[0m\u001b[0;36m5\u001b[0m\u001b[0;34m)\u001b[0m\u001b[0;34m\u001b[0m\u001b[0;34m\u001b[0m\u001b[0m\n\u001b[0m",
            "\u001b[0;31mAttributeError\u001b[0m: 'tuple' object has no attribute 'append'"
          ]
        }
      ]
    },
    {
      "cell_type": "code",
      "source": [
        "a = (input(' Enter your age'))\n",
        "\n",
        "print(int(a))"
      ],
      "metadata": {
        "colab": {
          "base_uri": "https://localhost:8080/"
        },
        "id": "EFFswHfdvsOr",
        "outputId": "21ffc18e-0182-43fd-aa1e-2e9d84274d8e"
      },
      "execution_count": null,
      "outputs": [
        {
          "output_type": "stream",
          "name": "stdout",
          "text": [
            " Enter your age 34 \n",
            "34\n"
          ]
        }
      ]
    },
    {
      "cell_type": "markdown",
      "source": [
        "#### recap loops\n",
        "### break, continue\n",
        "### examples for printing loops\n",
        "#### list\n",
        "    ### CRUD\n",
        "    ### how to split a string (### strip) to list\n",
        "    ### split, join\n",
        "    ###\n",
        "#### tuple\n",
        "#### dictionary\n",
        "#### set\n",
        "\n",
        "### list comrehensions"
      ],
      "metadata": {
        "id": "-wMJcEVovstq"
      }
    }
  ],
  "metadata": {
    "anaconda-cloud": {},
    "kernelspec": {
      "display_name": "Python 3",
      "language": "python",
      "name": "python3"
    },
    "language_info": {
      "codemirror_mode": {
        "name": "ipython",
        "version": 3
      },
      "file_extension": ".py",
      "mimetype": "text/x-python",
      "name": "python",
      "nbconvert_exporter": "python",
      "pygments_lexer": "ipython3",
      "version": "3.8.3"
    },
    "colab": {
      "provenance": [],
      "include_colab_link": true
    }
  },
  "nbformat": 4,
  "nbformat_minor": 0
}